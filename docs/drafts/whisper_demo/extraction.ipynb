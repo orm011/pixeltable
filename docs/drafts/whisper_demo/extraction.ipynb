{
 "cells": [
  {
   "cell_type": "code",
   "execution_count": 1,
   "id": "6508a1bc-e7c8-441d-a17a-7f69dc8035f9",
   "metadata": {
    "execution": {
     "iopub.execute_input": "2024-05-26T21:46:43.684994Z",
     "iopub.status.busy": "2024-05-26T21:46:43.684780Z",
     "iopub.status.idle": "2024-05-26T21:46:43.843146Z",
     "shell.execute_reply": "2024-05-26T21:46:43.842757Z",
     "shell.execute_reply.started": "2024-05-26T21:46:43.684966Z"
    }
   },
   "outputs": [],
   "source": []
  },
  {
   "cell_type": "code",
   "execution_count": null,
   "id": "00bc01bc-7fbe-465b-8dd8-ae265b83bfab",
   "metadata": {},
   "outputs": [],
   "source": [
    "in_stream"
   ]
  },
  {
   "cell_type": "code",
   "execution_count": null,
   "id": "57a289d9-2f1e-4a30-85bf-659f2897f5ac",
   "metadata": {},
   "outputs": [],
   "source": []
  }
 ],
 "metadata": {
  "kernelspec": {
   "display_name": "pixeltable_39",
   "language": "python",
   "name": "pixeltable_39"
  },
  "language_info": {
   "codemirror_mode": {
    "name": "ipython",
    "version": 3
   },
   "file_extension": ".py",
   "mimetype": "text/x-python",
   "name": "python",
   "nbconvert_exporter": "python",
   "pygments_lexer": "ipython3",
   "version": "3.9.19"
  }
 },
 "nbformat": 4,
 "nbformat_minor": 5
}

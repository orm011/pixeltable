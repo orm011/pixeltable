{
 "cells": [
  {
   "cell_type": "markdown",
   "id": "f4c59543-f758-4210-aae1-8ffa175f3e3d",
   "metadata": {},
   "source": [
    "[![Kaggle](https://kaggle.com/static/images/open-in-kaggle.svg)](https://kaggle.com/kernels/welcome?src=https://github.com/pixeltable/pixeltable/blob/master/docs/release/tutorials/rag-operations.ipynb)&nbsp;&nbsp;\n",
    "[![Colab](https://colab.research.google.com/assets/colab-badge.svg)](https://colab.research.google.com/github/pixeltable/pixeltable/blob/master/docs/release/tutorials/rag-operations.ipynb)\n",
    "\n",
    "# RAG Operations in Pixeltable\n",
    "\n",
    "In this tutorial, we'll explore Pixeltable's flexible handling of RAG operations on unstructured text. In a traditional AI workflow, such operations might be implemented as a Python script that runs on a periodic schedule or in response to certain events. In Pixeltable, as with everything else, they are implemented as persistent table operations that update incrementally as new data becomes available. In our tutorial workflow, we'll chunk Wikipedia articles in various ways with a document splitter, then apply several kinds of embeddings to the chunks.\n",
    "\n",
    "## Set Up the Table Structure\n",
    "\n",
    "We start by installing the necessary dependencies, creating a Pixeltable directory `rag_ops_demo` (if it doesn't already exist), and setting up the table structure for our new workflow."
   ]
  },
  {
   "cell_type": "code",
   "execution_count": 1,
   "id": "f54bd405-7f63-46c3-8892-5ffbcccd43d3",
   "metadata": {
    "execution": {
     "iopub.execute_input": "2024-05-22T22:49:05.420836Z",
     "iopub.status.busy": "2024-05-22T22:49:05.420636Z",
     "iopub.status.idle": "2024-05-22T22:49:07.593466Z",
     "shell.execute_reply": "2024-05-22T22:49:07.592981Z",
     "shell.execute_reply.started": "2024-05-22T22:49:05.420812Z"
    }
   },
   "outputs": [
    {
     "name": "stdout",
     "output_type": "stream",
     "text": [
      "Note: you may need to restart the kernel to use updated packages.\n"
     ]
    }
   ],
   "source": [
    "%pip install -q sentence-transformers pixeltable"
   ]
  },
  {
   "cell_type": "code",
   "execution_count": 2,
   "id": "a6e5554a-440e-4573-be78-624d012948de",
   "metadata": {
    "execution": {
     "iopub.execute_input": "2024-05-22T22:49:07.595495Z",
     "iopub.status.busy": "2024-05-22T22:49:07.595288Z",
     "iopub.status.idle": "2024-05-22T22:49:11.636081Z",
     "shell.execute_reply": "2024-05-22T22:49:11.635697Z",
     "shell.execute_reply.started": "2024-05-22T22:49:07.595468Z"
    }
   },
   "outputs": [
    {
     "name": "stdout",
     "output_type": "stream",
     "text": [
      "Connected to Pixeltable database at: postgresql://postgres:@/pixeltable?host=/Users/orm/.pixeltable/pgdata\n"
     ]
    }
   ],
   "source": [
    "import pixeltable as pxt\n",
    "\n",
    "# Create the Pixeltable workspace\n",
    "pxt.create_dir('rag_ops_demo', ignore_errors=True)\n",
    "\n",
    "# Clean the database to ensure we're using fresh table instances\n",
    "# (in case this demo has been run before)\n",
    "pxt.drop_table('rag_ops_demo.short_char_chunks', ignore_errors=True)\n",
    "pxt.drop_table('rag_ops_demo.short_chunks', ignore_errors=True)\n",
    "pxt.drop_table('rag_ops_demo.chunks', ignore_errors=True)\n",
    "pxt.drop_table('rag_ops_demo.sentences', ignore_errors=True)\n",
    "pxt.drop_table('rag_ops_demo.docs', ignore_errors=True)"
   ]
  },
  {
   "cell_type": "markdown",
   "id": "90639ba7",
   "metadata": {},
   "source": [
    "## Creating Tables and Views\n",
    "\n",
    "Now we'll create the tables that represent our workflow, starting with a table to hold references to source documents. The table contains a single column `source_doc` whose elements have type `pxt.DocumentType`, representing a general document instance. In this tutorial, we'll be working with HTML documents, but Pixeltable supports a range of other document types, such as Markdown and PDF."
   ]
  },
  {
   "cell_type": "code",
   "execution_count": 3,
   "id": "c8371827",
   "metadata": {
    "execution": {
     "iopub.execute_input": "2024-05-22T22:49:11.636855Z",
     "iopub.status.busy": "2024-05-22T22:49:11.636670Z",
     "iopub.status.idle": "2024-05-22T22:49:11.647078Z",
     "shell.execute_reply": "2024-05-22T22:49:11.646634Z",
     "shell.execute_reply.started": "2024-05-22T22:49:11.636843Z"
    }
   },
   "outputs": [
    {
     "name": "stdout",
     "output_type": "stream",
     "text": [
      "Created table `docs`.\n"
     ]
    }
   ],
   "source": [
    "docs = pxt.create_table('rag_ops_demo.docs', {'source_doc': pxt.DocumentType()})"
   ]
  },
  {
   "cell_type": "markdown",
   "id": "275d07fd-1f16-47b4-b42a-39c613c3bf5c",
   "metadata": {},
   "source": [
    "If we take a peek at the `docs` table, we see its very simple structure."
   ]
  },
  {
   "cell_type": "code",
   "execution_count": 4,
   "id": "d0644d63-991f-4bf4-82d3-7f887eadadbb",
   "metadata": {
    "execution": {
     "iopub.execute_input": "2024-05-22T22:49:11.648269Z",
     "iopub.status.busy": "2024-05-22T22:49:11.648093Z",
     "iopub.status.idle": "2024-05-22T22:49:11.655138Z",
     "shell.execute_reply": "2024-05-22T22:49:11.654642Z",
     "shell.execute_reply.started": "2024-05-22T22:49:11.648254Z"
    }
   },
   "outputs": [
    {
     "data": {
      "text/html": [
       "<style type=\"text/css\">\n",
       "#T_5033f th {\n",
       "  text-align: center;\n",
       "}\n",
       "#T_5033f_row0_col0, #T_5033f_row0_col1, #T_5033f_row0_col2 {\n",
       "  white-space: pre-wrap;\n",
       "  text-align: left;\n",
       "}\n",
       "</style>\n",
       "<table id=\"T_5033f\">\n",
       "  <thead>\n",
       "    <tr>\n",
       "      <th id=\"T_5033f_level0_col0\" class=\"col_heading level0 col0\" >Column Name</th>\n",
       "      <th id=\"T_5033f_level0_col1\" class=\"col_heading level0 col1\" >Type</th>\n",
       "      <th id=\"T_5033f_level0_col2\" class=\"col_heading level0 col2\" >Computed With</th>\n",
       "    </tr>\n",
       "  </thead>\n",
       "  <tbody>\n",
       "    <tr>\n",
       "      <td id=\"T_5033f_row0_col0\" class=\"data row0 col0\" >source_doc</td>\n",
       "      <td id=\"T_5033f_row0_col1\" class=\"data row0 col1\" >document</td>\n",
       "      <td id=\"T_5033f_row0_col2\" class=\"data row0 col2\" ></td>\n",
       "    </tr>\n",
       "  </tbody>\n",
       "</table>\n"
      ],
      "text/plain": [
       "table 'docs'\n",
       "\n",
       "Column Name     Type Computed With\n",
       " source_doc document              "
      ]
     },
     "execution_count": 4,
     "metadata": {},
     "output_type": "execute_result"
    }
   ],
   "source": [
    "docs"
   ]
  },
  {
   "cell_type": "markdown",
   "id": "4e1a701e-5f9d-4f56-a306-c31ff9da6ee7",
   "metadata": {},
   "source": [
    "Next we create a view to represent chunks of our HTML documents. A Pixeltable view is a virtual table, which is dynamically derived from a source table by applying a transformation and/or selecting a subset of data. In this case, our view represents a one-to-many transformation from source documents into individual sentences. This is achieved using Pixeltable's built-in `DocumentSplitter` class.\n",
    "\n",
    "Note that the `docs` table is currently empty, so creating this view doesn't actually *do* anything yet: it simply defines an operation that we want Pixeltable to execute when it sees new data."
   ]
  },
  {
   "cell_type": "code",
   "execution_count": 5,
   "id": "d074b305",
   "metadata": {
    "execution": {
     "iopub.execute_input": "2024-05-22T22:49:11.655893Z",
     "iopub.status.busy": "2024-05-22T22:49:11.655739Z",
     "iopub.status.idle": "2024-05-22T22:49:11.667988Z",
     "shell.execute_reply": "2024-05-22T22:49:11.667619Z",
     "shell.execute_reply.started": "2024-05-22T22:49:11.655878Z"
    }
   },
   "outputs": [
    {
     "name": "stdout",
     "output_type": "stream",
     "text": [
      "Created view `sentences` with 0 rows, 0 exceptions.\n"
     ]
    }
   ],
   "source": [
    "from pixeltable.iterators.document import DocumentSplitter\n",
    "\n",
    "sentences = pxt.create_view(\n",
    "    'rag_ops_demo.sentences',  # Name of the view\n",
    "    docs,  # Table from which the view is derived\n",
    "    iterator=DocumentSplitter.create(\n",
    "        document=docs.source_doc,\n",
    "        separators='sentence',  # Chunk docs into sentences\n",
    "        metadata='title,heading,sourceline'\n",
    "    )\n",
    ")"
   ]
  },
  {
   "cell_type": "markdown",
   "id": "9badf052-7e8d-43b2-9aea-0b20a9409a83",
   "metadata": {},
   "source": [
    "Let's take a peek at the new `sentences` view."
   ]
  },
  {
   "cell_type": "code",
   "execution_count": 6,
   "id": "29b07709",
   "metadata": {
    "execution": {
     "iopub.execute_input": "2024-05-22T22:49:11.668815Z",
     "iopub.status.busy": "2024-05-22T22:49:11.668698Z",
     "iopub.status.idle": "2024-05-22T22:49:11.674172Z",
     "shell.execute_reply": "2024-05-22T22:49:11.673757Z",
     "shell.execute_reply.started": "2024-05-22T22:49:11.668803Z"
    }
   },
   "outputs": [
    {
     "data": {
      "text/html": [
       "<style type=\"text/css\">\n",
       "#T_46026 th {\n",
       "  text-align: center;\n",
       "}\n",
       "#T_46026_row0_col0, #T_46026_row0_col1, #T_46026_row0_col2, #T_46026_row1_col0, #T_46026_row1_col1, #T_46026_row1_col2, #T_46026_row2_col0, #T_46026_row2_col1, #T_46026_row2_col2, #T_46026_row3_col0, #T_46026_row3_col1, #T_46026_row3_col2, #T_46026_row4_col0, #T_46026_row4_col1, #T_46026_row4_col2, #T_46026_row5_col0, #T_46026_row5_col1, #T_46026_row5_col2 {\n",
       "  white-space: pre-wrap;\n",
       "  text-align: left;\n",
       "}\n",
       "</style>\n",
       "<table id=\"T_46026\">\n",
       "  <thead>\n",
       "    <tr>\n",
       "      <th id=\"T_46026_level0_col0\" class=\"col_heading level0 col0\" >Column Name</th>\n",
       "      <th id=\"T_46026_level0_col1\" class=\"col_heading level0 col1\" >Type</th>\n",
       "      <th id=\"T_46026_level0_col2\" class=\"col_heading level0 col2\" >Computed With</th>\n",
       "    </tr>\n",
       "  </thead>\n",
       "  <tbody>\n",
       "    <tr>\n",
       "      <td id=\"T_46026_row0_col0\" class=\"data row0 col0\" >pos</td>\n",
       "      <td id=\"T_46026_row0_col1\" class=\"data row0 col1\" >int</td>\n",
       "      <td id=\"T_46026_row0_col2\" class=\"data row0 col2\" ></td>\n",
       "    </tr>\n",
       "    <tr>\n",
       "      <td id=\"T_46026_row1_col0\" class=\"data row1 col0\" >text</td>\n",
       "      <td id=\"T_46026_row1_col1\" class=\"data row1 col1\" >string</td>\n",
       "      <td id=\"T_46026_row1_col2\" class=\"data row1 col2\" ></td>\n",
       "    </tr>\n",
       "    <tr>\n",
       "      <td id=\"T_46026_row2_col0\" class=\"data row2 col0\" >title</td>\n",
       "      <td id=\"T_46026_row2_col1\" class=\"data row2 col1\" >string</td>\n",
       "      <td id=\"T_46026_row2_col2\" class=\"data row2 col2\" ></td>\n",
       "    </tr>\n",
       "    <tr>\n",
       "      <td id=\"T_46026_row3_col0\" class=\"data row3 col0\" >heading</td>\n",
       "      <td id=\"T_46026_row3_col1\" class=\"data row3 col1\" >json</td>\n",
       "      <td id=\"T_46026_row3_col2\" class=\"data row3 col2\" ></td>\n",
       "    </tr>\n",
       "    <tr>\n",
       "      <td id=\"T_46026_row4_col0\" class=\"data row4 col0\" >sourceline</td>\n",
       "      <td id=\"T_46026_row4_col1\" class=\"data row4 col1\" >int</td>\n",
       "      <td id=\"T_46026_row4_col2\" class=\"data row4 col2\" ></td>\n",
       "    </tr>\n",
       "    <tr>\n",
       "      <td id=\"T_46026_row5_col0\" class=\"data row5 col0\" >source_doc</td>\n",
       "      <td id=\"T_46026_row5_col1\" class=\"data row5 col1\" >document</td>\n",
       "      <td id=\"T_46026_row5_col2\" class=\"data row5 col2\" ></td>\n",
       "    </tr>\n",
       "  </tbody>\n",
       "</table>\n"
      ],
      "text/plain": [
       "view 'sentences'\n",
       "\n",
       "Column Name     Type Computed With\n",
       "        pos      int              \n",
       "       text   string              \n",
       "      title   string              \n",
       "    heading     json              \n",
       " sourceline      int              \n",
       " source_doc document              "
      ]
     },
     "execution_count": 6,
     "metadata": {},
     "output_type": "execute_result"
    }
   ],
   "source": [
    "sentences"
   ]
  },
  {
   "cell_type": "markdown",
   "id": "9641a8a0-a7fe-46b8-a2e8-3589e0df2bae",
   "metadata": {},
   "source": [
    "We see that `sentences` inherits the `source_doc` column from `docs`, together with some new fields:\n",
    "- `pos`: The position in the source document where the sentence appears.\n",
    "-  `text`: The text of the sentence.\n",
    "- `title`, `heading`, and `sourceline`: The metadata we requested when we set up the view."
   ]
  },
  {
   "cell_type": "markdown",
   "id": "e53392cb",
   "metadata": {},
   "source": [
    "## Data Ingestion"
   ]
  },
  {
   "cell_type": "markdown",
   "id": "0aec54a3-f5a8-483e-b3b9-c9111929ec74",
   "metadata": {},
   "source": [
    "Ok, now it's time to insert some data into our workflow. A document in Pixeltable is just a URL; the following command inserts a single row into the `docs` table with the `source_doc` field set to the specified URL:"
   ]
  },
  {
   "cell_type": "code",
   "execution_count": 7,
   "id": "a718a299",
   "metadata": {
    "execution": {
     "iopub.execute_input": "2024-05-22T22:49:11.676514Z",
     "iopub.status.busy": "2024-05-22T22:49:11.676392Z",
     "iopub.status.idle": "2024-05-22T22:49:16.672527Z",
     "shell.execute_reply": "2024-05-22T22:49:16.672271Z",
     "shell.execute_reply.started": "2024-05-22T22:49:11.676502Z"
    }
   },
   "outputs": [
    {
     "name": "stdout",
     "output_type": "stream",
     "text": [
      "Inserting rows into `docs`: 1 rows [00:00, 934.56 rows/s]\n",
      "Inserting rows into `sentences`: 1461 rows [00:00, 3202.77 rows/s]\n",
      "Inserted 1462 rows with 0 errors.\n"
     ]
    },
    {
     "data": {
      "text/plain": [
       "UpdateStatus(num_rows=1462, num_computed_values=0, num_excs=0, updated_cols=[], cols_with_excs=[])"
      ]
     },
     "execution_count": 7,
     "metadata": {},
     "output_type": "execute_result"
    }
   ],
   "source": [
    "docs.insert(source_doc='https://en.wikipedia.org/wiki/Marc_Chagall')"
   ]
  },
  {
   "cell_type": "markdown",
   "id": "542f97cd-08b9-4001-9d38-10f47bfdd5d0",
   "metadata": {},
   "source": [
    "We can see that two things happened. First, a single row was inserted into `docs`, containing the URL representing our source document. Then, the view `sentences` was incrementally updated by applying the `DocumentSplitter` according to the definition of the view. This illustrates an important principle in Pixeltable: by default, anytime Pixeltable sees new data, the update is incrementally propagated to any downstream views or computed columns.\n",
    "\n",
    "We can see the effect of the insertion with the `select` command. There's a single row in `docs`:"
   ]
  },
  {
   "cell_type": "code",
   "execution_count": 8,
   "id": "0bbe8e86-3cec-499f-a30f-58c5073ab42b",
   "metadata": {
    "execution": {
     "iopub.execute_input": "2024-05-22T22:49:16.673210Z",
     "iopub.status.busy": "2024-05-22T22:49:16.673035Z",
     "iopub.status.idle": "2024-05-22T22:49:16.678459Z",
     "shell.execute_reply": "2024-05-22T22:49:16.678222Z",
     "shell.execute_reply.started": "2024-05-22T22:49:16.673199Z"
    }
   },
   "outputs": [
    {
     "data": {
      "text/html": [
       "<table border=\"1\" class=\"dataframe\">\n",
       "  <thead>\n",
       "    <tr style=\"text-align: right;\">\n",
       "      <th>source_doc_fileurl</th>\n",
       "    </tr>\n",
       "  </thead>\n",
       "  <tbody>\n",
       "    <tr>\n",
       "      <td><pre style=\"text-align:left; background-color:transparent; margin:0;\">https://en.wikipedia.org/wiki/Marc_Chagall</pre></td>\n",
       "    </tr>\n",
       "  </tbody>\n",
       "</table>"
      ],
      "text/plain": [
       "                           source_doc_fileurl\n",
       "0  https://en.wikipedia.org/wiki/Marc_Chagall"
      ]
     },
     "execution_count": 8,
     "metadata": {},
     "output_type": "execute_result"
    }
   ],
   "source": [
    "docs.select(docs.source_doc.fileurl).show()"
   ]
  },
  {
   "cell_type": "markdown",
   "id": "a2dd8f07-6f5c-426b-a829-51dd8e26f888",
   "metadata": {},
   "source": [
    "And here are the first 20 rows in `sentences`. The content of the article is broken into individual sentences, as expected."
   ]
  },
  {
   "cell_type": "code",
   "execution_count": 9,
   "id": "42199e16-559f-4827-940c-1726f83452e5",
   "metadata": {
    "execution": {
     "iopub.execute_input": "2024-05-22T22:49:16.679031Z",
     "iopub.status.busy": "2024-05-22T22:49:16.678934Z",
     "iopub.status.idle": "2024-05-22T22:49:16.686982Z",
     "shell.execute_reply": "2024-05-22T22:49:16.686663Z",
     "shell.execute_reply.started": "2024-05-22T22:49:16.679019Z"
    }
   },
   "outputs": [
    {
     "data": {
      "text/html": [
       "<table border=\"1\" class=\"dataframe\">\n",
       "  <thead>\n",
       "    <tr style=\"text-align: right;\">\n",
       "      <th>text</th>\n",
       "      <th>heading</th>\n",
       "    </tr>\n",
       "  </thead>\n",
       "  <tbody>\n",
       "    <tr>\n",
       "      <td><pre style=\"text-align:left; background-color:transparent; margin:0;\">Marc Chagall - Wikipedia Jump to content Search Search</pre></td>\n",
       "      <td><pre style=\"text-align:left; background-color:transparent; margin:0;\">{}</pre></td>\n",
       "    </tr>\n",
       "    <tr>\n",
       "      <td><pre style=\"text-align:left; background-color:transparent; margin:0;\">Marc Chagall 81 languages Afrikaans Alemannisch العربية</pre></td>\n",
       "      <td><pre style=\"text-align:left; background-color:transparent; margin:0;\">{1: Marc Chagall}</pre></td>\n",
       "    </tr>\n",
       "    <tr>\n",
       "      <td><pre style=\"text-align:left; background-color:transparent; margin:0;\">Aragonés Արեւմտահայերէն Asturianu Azərbaycanca বাংলা Башҡортса Беларуская Беларуская (тарашкевіца) Български Català Čeština Cymraeg Dansk Deutsch Eesti Ελληνικά Español Esperanto Euskara فارسی Français Galego 한국어 Հայերեն हिन्दी</pre></td>\n",
       "      <td><pre style=\"text-align:left; background-color:transparent; margin:0;\">{1: Marc Chagall}</pre></td>\n",
       "    </tr>\n",
       "    <tr>\n",
       "      <td><pre style=\"text-align:left; background-color:transparent; margin:0;\">Hrvatski Ido Bahasa Indonesia Interlingua Italiano עברית Jawa ქართული Kiswahili Latina Latviešu Lëtzebuergesch Lietuvių  ......  Sicilianu Simple English Slovenčina Slovenščina کوردی Српски / srpski Srpskohrvatski / српскохрватски Suomi Svenska ไทย</pre></td>\n",
       "      <td><pre style=\"text-align:left; background-color:transparent; margin:0;\">{1: Marc Chagall}</pre></td>\n",
       "    </tr>\n",
       "    <tr>\n",
       "      <td><pre style=\"text-align:left; background-color:transparent; margin:0;\">Türkçe Українська Tiếng Việt Winaray 吴语 ייִדיש</pre></td>\n",
       "      <td><pre style=\"text-align:left; background-color:transparent; margin:0;\">{1: Marc Chagall}</pre></td>\n",
       "    </tr>\n",
       "    <tr>\n",
       "      <td><pre style=\"text-align:left; background-color:transparent; margin:0;\">粵語 中文 Edit links From Wikipedia, the free encyclopedia Russian-French artist (1887–1985) &quot;Chagall&quot; redirects here.</pre></td>\n",
       "      <td><pre style=\"text-align:left; background-color:transparent; margin:0;\">{1: Marc Chagall}</pre></td>\n",
       "    </tr>\n",
       "    <tr>\n",
       "      <td><pre style=\"text-align:left; background-color:transparent; margin:0;\">For other uses, see Chagall (disambiguation) .</pre></td>\n",
       "      <td><pre style=\"text-align:left; background-color:transparent; margin:0;\">{1: Marc Chagall}</pre></td>\n",
       "    </tr>\n",
       "    <tr>\n",
       "      <td><pre style=\"text-align:left; background-color:transparent; margin:0;\">Marc Chagall Chagall, c. 1920</pre></td>\n",
       "      <td><pre style=\"text-align:left; background-color:transparent; margin:0;\">{1: Marc Chagall}</pre></td>\n",
       "    </tr>\n",
       "    <tr>\n",
       "      <td><pre style=\"text-align:left; background-color:transparent; margin:0;\">Born Moishe Shagal ( 1887-07-06 ) 6 July 1887 (N.S.) Liozna , Vitebsk Governorate , Russian Empire (now Belarus)</pre></td>\n",
       "      <td><pre style=\"text-align:left; background-color:transparent; margin:0;\">{1: Marc Chagall}</pre></td>\n",
       "    </tr>\n",
       "    <tr>\n",
       "      <td><pre style=\"text-align:left; background-color:transparent; margin:0;\">[1] Died 28 March 1985 (1985-03-28) (aged 97)</pre></td>\n",
       "      <td><pre style=\"text-align:left; background-color:transparent; margin:0;\">{1: Marc Chagall}</pre></td>\n",
       "    </tr>\n",
       "    <tr>\n",
       "      <td><pre style=\"text-align:left; background-color:transparent; margin:0;\">Saint-Paul-de-Vence , France Nationality Russian, later French</pre></td>\n",
       "      <td><pre style=\"text-align:left; background-color:transparent; margin:0;\">{1: Marc Chagall}</pre></td>\n",
       "    </tr>\n",
       "    <tr>\n",
       "      <td><pre style=\"text-align:left; background-color:transparent; margin:0;\">[2] Known for Painting stained glass Notable work See list of artworks by Marc Chagall Movement Cubism Expressionism School of Paris Spouses Bella Rosenfeld ​ ​ ( m. 1915; died 1944)</pre></td>\n",
       "      <td><pre style=\"text-align:left; background-color:transparent; margin:0;\">{1: Marc Chagall}</pre></td>\n",
       "    </tr>\n",
       "    <tr>\n",
       "      <td><pre style=\"text-align:left; background-color:transparent; margin:0;\">​ Valentina (Vava) Brodsky ​ ​ ( m. 1952)</pre></td>\n",
       "      <td><pre style=\"text-align:left; background-color:transparent; margin:0;\">{1: Marc Chagall}</pre></td>\n",
       "    </tr>\n",
       "    <tr>\n",
       "      <td><pre style=\"text-align:left; background-color:transparent; margin:0;\">​</pre></td>\n",
       "      <td><pre style=\"text-align:left; background-color:transparent; margin:0;\">{1: Marc Chagall}</pre></td>\n",
       "    </tr>\n",
       "    <tr>\n",
       "      <td><pre style=\"text-align:left; background-color:transparent; margin:0;\">[3] Children 2</pre></td>\n",
       "      <td><pre style=\"text-align:left; background-color:transparent; margin:0;\">{1: Marc Chagall}</pre></td>\n",
       "    </tr>\n",
       "    <tr>\n",
       "      <td><pre style=\"text-align:left; background-color:transparent; margin:0;\">[4]</pre></td>\n",
       "      <td><pre style=\"text-align:left; background-color:transparent; margin:0;\">{1: Marc Chagall}</pre></td>\n",
       "    </tr>\n",
       "    <tr>\n",
       "      <td><pre style=\"text-align:left; background-color:transparent; margin:0;\">Marc Chagall</pre></td>\n",
       "      <td><pre style=\"text-align:left; background-color:transparent; margin:0;\">{1: Marc Chagall}</pre></td>\n",
       "    </tr>\n",
       "    <tr>\n",
       "      <td><pre style=\"text-align:left; background-color:transparent; margin:0;\">[a] (born Moishe Shagal ; 6 July [ O.S. 24 June] 1887 – 28 March 1985) was a Russian-French artist.</pre></td>\n",
       "      <td><pre style=\"text-align:left; background-color:transparent; margin:0;\">{1: Marc Chagall}</pre></td>\n",
       "    </tr>\n",
       "    <tr>\n",
       "      <td><pre style=\"text-align:left; background-color:transparent; margin:0;\">[b] An early modernist , he was associated with the École de Paris as well as several major artistic styles and created  ......  including painting, drawings, book illustrations, stained glass , stage sets, ceramics, tapestries and fine art prints.</pre></td>\n",
       "      <td><pre style=\"text-align:left; background-color:transparent; margin:0;\">{1: Marc Chagall}</pre></td>\n",
       "    </tr>\n",
       "    <tr>\n",
       "      <td><pre style=\"text-align:left; background-color:transparent; margin:0;\">Chagall was born in 1887, into a Jewish family near Vitebsk , today in Belarus , but at that time in the Pale of Settlement of the Russian Empire.</pre></td>\n",
       "      <td><pre style=\"text-align:left; background-color:transparent; margin:0;\">{1: Marc Chagall}</pre></td>\n",
       "    </tr>\n",
       "  </tbody>\n",
       "</table>"
      ],
      "text/plain": [
       "                                                 text                heading\n",
       "0   Marc Chagall - Wikipedia Jump to content Searc...                     {}\n",
       "1   Marc Chagall 81 languages Afrikaans Alemannisc...  {'1': 'Marc Chagall'}\n",
       "2   Aragonés Արեւմտահայերէն Asturianu Azərbaycanca...  {'1': 'Marc Chagall'}\n",
       "3   Hrvatski Ido Bahasa Indonesia Interlingua Ital...  {'1': 'Marc Chagall'}\n",
       "4      Türkçe Українська Tiếng Việt Winaray 吴语 ייִדיש  {'1': 'Marc Chagall'}\n",
       "5   粵語 中文 Edit links From Wikipedia, the free ency...  {'1': 'Marc Chagall'}\n",
       "6      For other uses, see Chagall (disambiguation) .  {'1': 'Marc Chagall'}\n",
       "7                       Marc Chagall Chagall, c. 1920  {'1': 'Marc Chagall'}\n",
       "8   Born Moishe Shagal ( 1887-07-06 ) 6 July 1887 ...  {'1': 'Marc Chagall'}\n",
       "9       [1] Died 28 March 1985 (1985-03-28) (aged 97)  {'1': 'Marc Chagall'}\n",
       "10  Saint-Paul-de-Vence , France Nationality Russi...  {'1': 'Marc Chagall'}\n",
       "11  [2] Known for Painting stained glass Notable w...  {'1': 'Marc Chagall'}\n",
       "12          ​ Valentina (Vava) Brodsky ​ ​ ( m. 1952)  {'1': 'Marc Chagall'}\n",
       "13                                                  ​  {'1': 'Marc Chagall'}\n",
       "14                                     [3] Children 2  {'1': 'Marc Chagall'}\n",
       "15                                                [4]  {'1': 'Marc Chagall'}\n",
       "16                                       Marc Chagall  {'1': 'Marc Chagall'}\n",
       "17  [a] (born Moishe Shagal ; 6 July [ O.S. 24 Jun...  {'1': 'Marc Chagall'}\n",
       "18  [b] An early modernist , he was associated wit...  {'1': 'Marc Chagall'}\n",
       "19  Chagall was born in 1887, into a Jewish family...  {'1': 'Marc Chagall'}"
      ]
     },
     "execution_count": 9,
     "metadata": {},
     "output_type": "execute_result"
    }
   ],
   "source": [
    "sentences.select(sentences.text, sentences.heading).show(20)"
   ]
  },
  {
   "cell_type": "markdown",
   "id": "9e3abbdd",
   "metadata": {},
   "source": [
    "## Experimenting with Chunking"
   ]
  },
  {
   "cell_type": "markdown",
   "id": "2d229545-79b6-4fdd-be54-f786669533eb",
   "metadata": {},
   "source": [
    "Of course, chunking into sentences isn't the only way to split a document. Perhaps we want to experiment with different chunking methodologies, in order to see which one performs best in a particular application. Pixeltable makes it easy to do this, by creating several views of the same source table. Here are a few examples. Notice that as each new view is created, it is initially populated from the data already in `docs`."
   ]
  },
  {
   "cell_type": "code",
   "execution_count": 10,
   "id": "887389a1",
   "metadata": {
    "execution": {
     "iopub.execute_input": "2024-05-22T22:49:16.687612Z",
     "iopub.status.busy": "2024-05-22T22:49:16.687510Z",
     "iopub.status.idle": "2024-05-22T22:49:17.223463Z",
     "shell.execute_reply": "2024-05-22T22:49:17.223179Z",
     "shell.execute_reply.started": "2024-05-22T22:49:16.687601Z"
    }
   },
   "outputs": [
    {
     "name": "stdout",
     "output_type": "stream",
     "text": [
      "Inserting rows into `chunks`: 205 rows [00:00, 14621.76 rows/s]\n",
      "Created view `chunks` with 205 rows, 0 exceptions.\n"
     ]
    }
   ],
   "source": [
    "chunks = pxt.create_view(\n",
    "    'rag_ops_demo.chunks', docs,\n",
    "    iterator=DocumentSplitter.create(\n",
    "        document=docs.source_doc,\n",
    "        separators='paragraph,token_limit',\n",
    "        limit=2048,\n",
    "        overlap=0,\n",
    "        metadata='title,heading,sourceline'\n",
    "    )\n",
    ")"
   ]
  },
  {
   "cell_type": "code",
   "execution_count": 11,
   "id": "fd4c8b8b",
   "metadata": {
    "execution": {
     "iopub.execute_input": "2024-05-22T22:49:17.224169Z",
     "iopub.status.busy": "2024-05-22T22:49:17.224074Z",
     "iopub.status.idle": "2024-05-22T22:49:17.547102Z",
     "shell.execute_reply": "2024-05-22T22:49:17.546791Z",
     "shell.execute_reply.started": "2024-05-22T22:49:17.224158Z"
    }
   },
   "outputs": [
    {
     "name": "stdout",
     "output_type": "stream",
     "text": [
      "Inserting rows into `short_chunks`: 531 rows [00:00, 19589.72 rows/s]\n",
      "Created view `short_chunks` with 531 rows, 0 exceptions.\n"
     ]
    }
   ],
   "source": [
    "short_chunks = pxt.create_view(\n",
    "    'rag_ops_demo.short_chunks', docs,\n",
    "    iterator=DocumentSplitter.create(\n",
    "        document=docs.source_doc,\n",
    "        separators='paragraph,token_limit',\n",
    "        limit=72,\n",
    "        overlap=0,\n",
    "        metadata='title,heading,sourceline'\n",
    "    )\n",
    ")"
   ]
  },
  {
   "cell_type": "code",
   "execution_count": 12,
   "id": "096df773",
   "metadata": {
    "execution": {
     "iopub.execute_input": "2024-05-22T22:49:17.547701Z",
     "iopub.status.busy": "2024-05-22T22:49:17.547605Z",
     "iopub.status.idle": "2024-05-22T22:49:18.038801Z",
     "shell.execute_reply": "2024-05-22T22:49:18.038529Z",
     "shell.execute_reply.started": "2024-05-22T22:49:17.547690Z"
    }
   },
   "outputs": [
    {
     "name": "stdout",
     "output_type": "stream",
     "text": [
      "Inserting rows into `short_char_chunks`: 1763 rows [00:00, 15904.40 rows/s]\n",
      "Created view `short_char_chunks` with 1763 rows, 0 exceptions.\n"
     ]
    }
   ],
   "source": [
    "short_char_chunks = pxt.create_view(\n",
    "    'rag_ops_demo.short_char_chunks', docs,\n",
    "    iterator=DocumentSplitter.create(\n",
    "        document=docs.source_doc,\n",
    "        separators='paragraph,char_limit',\n",
    "        limit=72,\n",
    "        overlap=0,\n",
    "        metadata='title,heading,sourceline'\n",
    "    )\n",
    ")"
   ]
  },
  {
   "cell_type": "code",
   "execution_count": 13,
   "id": "d8289f0a",
   "metadata": {
    "execution": {
     "iopub.execute_input": "2024-05-22T22:49:18.039414Z",
     "iopub.status.busy": "2024-05-22T22:49:18.039325Z",
     "iopub.status.idle": "2024-05-22T22:49:18.047304Z",
     "shell.execute_reply": "2024-05-22T22:49:18.047003Z",
     "shell.execute_reply.started": "2024-05-22T22:49:18.039404Z"
    }
   },
   "outputs": [
    {
     "data": {
      "text/html": [
       "<table border=\"1\" class=\"dataframe\">\n",
       "  <thead>\n",
       "    <tr style=\"text-align: right;\">\n",
       "      <th>text</th>\n",
       "      <th>heading</th>\n",
       "    </tr>\n",
       "  </thead>\n",
       "  <tbody>\n",
       "    <tr>\n",
       "      <td><pre style=\"text-align:left; background-color:transparent; margin:0;\">Marc Chagall - Wikipedia Jump to content Search Search</pre></td>\n",
       "      <td><pre style=\"text-align:left; background-color:transparent; margin:0;\">{}</pre></td>\n",
       "    </tr>\n",
       "    <tr>\n",
       "      <td><pre style=\"text-align:left; background-color:transparent; margin:0;\">Marc Chagall 81 languages Afrikaans Alemannisch العربية Aragonés Արեւմտահայերէն Asturianu Azərbaycanca বাংলা Башҡортса Б ......  encyclopedia Russian-French artist (1887–1985) &quot;Chagall&quot; redirects here. For other uses, see Chagall (disambiguation) .</pre></td>\n",
       "      <td><pre style=\"text-align:left; background-color:transparent; margin:0;\">{1: Marc Chagall}</pre></td>\n",
       "    </tr>\n",
       "    <tr>\n",
       "      <td><pre style=\"text-align:left; background-color:transparent; margin:0;\">Marc Chagall Chagall, c. 1920 Born Moishe Shagal ( 1887-07-06 ) 6 July 1887 (N.S.) Liozna , Vitebsk Governorate , Russia ...... f Paris Spouses Bella Rosenfeld ​ ​ ( m. 1915; died 1944) ​ Valentina (Vava) Brodsky ​ ​ ( m. 1952) ​ [3] Children 2 [4]</pre></td>\n",
       "      <td><pre style=\"text-align:left; background-color:transparent; margin:0;\">{1: Marc Chagall}</pre></td>\n",
       "    </tr>\n",
       "    <tr>\n",
       "      <td><pre style=\"text-align:left; background-color:transparent; margin:0;\">Marc Chagall [a] (born Moishe Shagal ; 6 July [ O.S. 24 June] 1887 – 28 March 1985) was a Russian-French artist. [b] An  ......  including painting, drawings, book illustrations, stained glass , stage sets, ceramics, tapestries and fine art prints.</pre></td>\n",
       "      <td><pre style=\"text-align:left; background-color:transparent; margin:0;\">{1: Marc Chagall}</pre></td>\n",
       "    </tr>\n",
       "    <tr>\n",
       "      <td><pre style=\"text-align:left; background-color:transparent; margin:0;\">Chagall was born in 1887, into a Jewish family near Vitebsk , today in Belarus , but at that time in the Pale of Settlem ...... ccupied France to the United States, where he lived in New York City for seven years before returning to France in 1948.</pre></td>\n",
       "      <td><pre style=\"text-align:left; background-color:transparent; margin:0;\">{1: Marc Chagall}</pre></td>\n",
       "    </tr>\n",
       "    <tr>\n",
       "      <td><pre style=\"text-align:left; background-color:transparent; margin:0;\">Art critic Robert Hughes referred to Chagall as &quot;the quintessential Jewish artist of the twentieth century&quot;. According t ...... Pablo Picasso remarked in the 1950s, &quot;Chagall will be the only painter left who understands what colour really is&quot;. [17]</pre></td>\n",
       "      <td><pre style=\"text-align:left; background-color:transparent; margin:0;\">{1: Marc Chagall}</pre></td>\n",
       "    </tr>\n",
       "    <tr>\n",
       "      <td><pre style=\"text-align:left; background-color:transparent; margin:0;\">Early life and education [ edit ]</pre></td>\n",
       "      <td><pre style=\"text-align:left; background-color:transparent; margin:0;\">{1: Marc Chagall, 2: Early life and education[edit]}</pre></td>\n",
       "    </tr>\n",
       "    <tr>\n",
       "      <td><pre style=\"text-align:left; background-color:transparent; margin:0;\">Early life [ edit ] Marc Chagall&#x27;s childhood home in Vitebsk , Belarus. Currently site of the Marc Chagall Museum . Marc Chagall, 1912, The Spoonful of Milk (La Cuillerée de lait) , gouache on paper</pre></td>\n",
       "      <td><pre style=\"text-align:left; background-color:transparent; margin:0;\">{1: Marc Chagall, 2: Early life and education[edit], 3: Early life[edit]}</pre></td>\n",
       "    </tr>\n",
       "    <tr>\n",
       "      <td><pre style=\"text-align:left; background-color:transparent; margin:0;\">Marc Chagall was born Moishe Shagal in 1887, into a Jewish family in Liozna , [1] near the city of Vitebsk , Belarus, th ...... ecause the city was built mostly of wood, little of it survived years of occupation and destruction during World War II.</pre></td>\n",
       "      <td><pre style=\"text-align:left; background-color:transparent; margin:0;\">{1: Marc Chagall, 2: Early life and education[edit], 3: Early life[edit]}</pre></td>\n",
       "    </tr>\n",
       "    <tr>\n",
       "      <td><pre style=\"text-align:left; background-color:transparent; margin:0;\">Chagall was the eldest of nine children. The family name, Shagal, is a variant of the name Segal , which in a Jewish com ...... les each month (the average wages across the Russian Empire was 13 roubles a month). Chagall wrote of those early years:</pre></td>\n",
       "      <td><pre style=\"text-align:left; background-color:transparent; margin:0;\">{1: Marc Chagall, 2: Early life and education[edit], 3: Early life[edit]}</pre></td>\n",
       "    </tr>\n",
       "    <tr>\n",
       "      <td><pre style=\"text-align:left; background-color:transparent; margin:0;\">Day after day, winter and summer, at six o&#x27;clock in the morning, my father got up and went off to the synagogue. There h ...... enty of butter and cheese on our table. Buttered bread, like an eternal symbol, was never out of my childish hands. [21]</pre></td>\n",
       "      <td><pre style=\"text-align:left; background-color:transparent; margin:0;\">{1: Marc Chagall, 2: Early life and education[edit], 3: Early life[edit]}</pre></td>\n",
       "    </tr>\n",
       "    <tr>\n",
       "      <td><pre style=\"text-align:left; background-color:transparent; margin:0;\">Years later, at the age of 57, while living in the United States, Chagall confirmed that when he published an open letter entitled, &quot;To My City Vitebsk&quot;:</pre></td>\n",
       "      <td><pre style=\"text-align:left; background-color:transparent; margin:0;\">{1: Marc Chagall, 2: Early life and education[edit], 3: Artistic inspiration[edit]}</pre></td>\n",
       "    </tr>\n",
       "    <tr>\n",
       "      <td><pre style=\"text-align:left; background-color:transparent; margin:0;\">One of the main sources of income for the Jewish population of the town was from the manufacture of clothing that was so ...... roughout today&#x27;s Eastern Europe, with their own markets, schools, hospitals, and other community institutions. [23] : 14</pre></td>\n",
       "      <td><pre style=\"text-align:left; background-color:transparent; margin:0;\">{1: Marc Chagall, 2: Early life and education[edit], 3: Early life[edit]}</pre></td>\n",
       "    </tr>\n",
       "    <tr>\n",
       "      <td><pre style=\"text-align:left; background-color:transparent; margin:0;\">Chagall wrote as a boy; &quot;I felt at every step that I was a Jew—people made me feel it&quot;. [24] [25] During a pogrom , Chag ...... wanted to live&quot;. [25] [26] Chagall denied being a Jew, leading the pogromniks to shout &quot;All right! Get along!&quot; [25] [26]</pre></td>\n",
       "      <td><pre style=\"text-align:left; background-color:transparent; margin:0;\">{1: Marc Chagall, 2: Early life and education[edit], 3: Early life[edit]}</pre></td>\n",
       "    </tr>\n",
       "    <tr>\n",
       "      <td><pre style=\"text-align:left; background-color:transparent; margin:0;\">Most of what is known about Chagall&#x27;s early life has come from his autobiography, My Life . In it, he described the majo ...... om the Kabbalah . Chagall scholar, Susan Tumarkin Goodman, describes the links and sources of his art to his early home:</pre></td>\n",
       "      <td><pre style=\"text-align:left; background-color:transparent; margin:0;\">{1: Marc Chagall, 2: Early life and education[edit], 3: Early life[edit]}</pre></td>\n",
       "    </tr>\n",
       "    <tr>\n",
       "      <td><pre style=\"text-align:left; background-color:transparent; margin:0;\">Chagall&#x27;s art can be understood as the response to a situation that has long marked the history of Russian Jews. Though  ...... ervant Hasidic Jews who found spiritual satisfaction in a life defined by their faith and organized by prayer. [23] : 14</pre></td>\n",
       "      <td><pre style=\"text-align:left; background-color:transparent; margin:0;\">{1: Marc Chagall, 2: Early life and education[edit], 3: Early life[edit]}</pre></td>\n",
       "    </tr>\n",
       "    <tr>\n",
       "      <td><pre style=\"text-align:left; background-color:transparent; margin:0;\">Art education [ edit ] Portrait of Chagall by Yehuda Pen , his first art teacher in Vitebsk</pre></td>\n",
       "      <td><pre style=\"text-align:left; background-color:transparent; margin:0;\">{1: Marc Chagall, 2: Early life and education[edit], 3: Art education[edit]}</pre></td>\n",
       "    </tr>\n",
       "    <tr>\n",
       "      <td><pre style=\"text-align:left; background-color:transparent; margin:0;\">In the Russian Empire at that time, Jewish children were not allowed to attend regular schools and universities imposed  ...... ageous mother walks up to a professor.&quot; She offered the headmaster 50 roubles to let him attend, which he accepted. [21]</pre></td>\n",
       "      <td><pre style=\"text-align:left; background-color:transparent; margin:0;\">{1: Marc Chagall, 2: Early life and education[edit], 3: Art education[edit]}</pre></td>\n",
       "    </tr>\n",
       "    <tr>\n",
       "      <td><pre style=\"text-align:left; background-color:transparent; margin:0;\">A turning point of his artistic life came when he first noticed a fellow student drawing. Baal-Teshuva writes that, for  ...... egan copying images from books and found the experience so rewarding he then decided he wanted to become an artist. [22]</pre></td>\n",
       "      <td><pre style=\"text-align:left; background-color:transparent; margin:0;\">{1: Marc Chagall, 2: Early life and education[edit], 3: Art education[edit]}</pre></td>\n",
       "    </tr>\n",
       "    <tr>\n",
       "      <td><pre style=\"text-align:left; background-color:transparent; margin:0;\">Goodman writes that Chagall eventually confided to his mother, &quot;I want to be a painter&quot;, although she could not yet unde ...... arge. However, after a few months at the school, Chagall realized that academic portrait painting did not suit him. [22]</pre></td>\n",
       "      <td><pre style=\"text-align:left; background-color:transparent; margin:0;\">{1: Marc Chagall, 2: Early life and education[edit], 3: Art education[edit]}</pre></td>\n",
       "    </tr>\n",
       "  </tbody>\n",
       "</table>"
      ],
      "text/plain": [
       "                                                 text  \\\n",
       "0   Marc Chagall - Wikipedia Jump to content Searc...   \n",
       "1   Marc Chagall 81 languages Afrikaans Alemannisc...   \n",
       "2   Marc Chagall Chagall, c. 1920 Born Moishe Shag...   \n",
       "3   Marc Chagall [a] (born Moishe Shagal ; 6 July ...   \n",
       "4   Chagall was born in 1887, into a Jewish family...   \n",
       "5   Art critic Robert Hughes referred to Chagall a...   \n",
       "6                   Early life and education [ edit ]   \n",
       "7   Early life [ edit ] Marc Chagall's childhood h...   \n",
       "8   Marc Chagall was born Moishe Shagal in 1887, i...   \n",
       "9   Chagall was the eldest of nine children. The f...   \n",
       "10  Day after day, winter and summer, at six o'clo...   \n",
       "11  Years later, at the age of 57, while living in...   \n",
       "12  One of the main sources of income for the Jewi...   \n",
       "13  Chagall wrote as a boy; \"I felt at every step ...   \n",
       "14  Most of what is known about Chagall's early li...   \n",
       "15  Chagall's art can be understood as the respons...   \n",
       "16  Art education [ edit ] Portrait of Chagall by ...   \n",
       "17  In the Russian Empire at that time, Jewish chi...   \n",
       "18  A turning point of his artistic life came when...   \n",
       "19  Goodman writes that Chagall eventually confide...   \n",
       "\n",
       "                                              heading  \n",
       "0                                                  {}  \n",
       "1                               {'1': 'Marc Chagall'}  \n",
       "2                               {'1': 'Marc Chagall'}  \n",
       "3                               {'1': 'Marc Chagall'}  \n",
       "4                               {'1': 'Marc Chagall'}  \n",
       "5                               {'1': 'Marc Chagall'}  \n",
       "6   {'1': 'Marc Chagall', '2': 'Early life and edu...  \n",
       "7   {'1': 'Marc Chagall', '2': 'Early life and edu...  \n",
       "8   {'1': 'Marc Chagall', '2': 'Early life and edu...  \n",
       "9   {'1': 'Marc Chagall', '2': 'Early life and edu...  \n",
       "10  {'1': 'Marc Chagall', '2': 'Early life and edu...  \n",
       "11  {'1': 'Marc Chagall', '2': 'Early life and edu...  \n",
       "12  {'1': 'Marc Chagall', '2': 'Early life and edu...  \n",
       "13  {'1': 'Marc Chagall', '2': 'Early life and edu...  \n",
       "14  {'1': 'Marc Chagall', '2': 'Early life and edu...  \n",
       "15  {'1': 'Marc Chagall', '2': 'Early life and edu...  \n",
       "16  {'1': 'Marc Chagall', '2': 'Early life and edu...  \n",
       "17  {'1': 'Marc Chagall', '2': 'Early life and edu...  \n",
       "18  {'1': 'Marc Chagall', '2': 'Early life and edu...  \n",
       "19  {'1': 'Marc Chagall', '2': 'Early life and edu...  "
      ]
     },
     "execution_count": 13,
     "metadata": {},
     "output_type": "execute_result"
    }
   ],
   "source": [
    "chunks.select(chunks.text, chunks.heading).show(20)"
   ]
  },
  {
   "cell_type": "code",
   "execution_count": 14,
   "id": "c0d453cf",
   "metadata": {
    "execution": {
     "iopub.execute_input": "2024-05-22T22:49:18.048011Z",
     "iopub.status.busy": "2024-05-22T22:49:18.047900Z",
     "iopub.status.idle": "2024-05-22T22:49:18.055352Z",
     "shell.execute_reply": "2024-05-22T22:49:18.055097Z",
     "shell.execute_reply.started": "2024-05-22T22:49:18.048000Z"
    }
   },
   "outputs": [
    {
     "data": {
      "text/html": [
       "<table border=\"1\" class=\"dataframe\">\n",
       "  <thead>\n",
       "    <tr style=\"text-align: right;\">\n",
       "      <th>text</th>\n",
       "      <th>heading</th>\n",
       "    </tr>\n",
       "  </thead>\n",
       "  <tbody>\n",
       "    <tr>\n",
       "      <td><pre style=\"text-align:left; background-color:transparent; margin:0;\">Marc Chagall - Wikipedia Jump to content Search Search</pre></td>\n",
       "      <td><pre style=\"text-align:left; background-color:transparent; margin:0;\">{}</pre></td>\n",
       "    </tr>\n",
       "    <tr>\n",
       "      <td><pre style=\"text-align:left; background-color:transparent; margin:0;\">Marc Chagall 81 languages Afrikaans Alemannisch العربية Aragonés Արեւմտահայերէն Asturianu Azərbaycanca বাংলা Башҡ</pre></td>\n",
       "      <td><pre style=\"text-align:left; background-color:transparent; margin:0;\">{1: Marc Chagall}</pre></td>\n",
       "    </tr>\n",
       "    <tr>\n",
       "      <td><pre style=\"text-align:left; background-color:transparent; margin:0;\">ортса Беларуская Беларуская (тарашкевіца) Български Català Čeština Cymraeg Dansk Deutsch Eesti Ελληνικά Español Esperanto Euskara فارسی Français Galego 한</pre></td>\n",
       "      <td><pre style=\"text-align:left; background-color:transparent; margin:0;\">{1: Marc Chagall}</pre></td>\n",
       "    </tr>\n",
       "    <tr>\n",
       "      <td><pre style=\"text-align:left; background-color:transparent; margin:0;\">국어 Հայերեն हिन्दी Hrvatski Ido Bahasa Indonesia Interlingua Italiano עברית Jawa ქართული Kiswahili Latina Latviešu Lë</pre></td>\n",
       "      <td><pre style=\"text-align:left; background-color:transparent; margin:0;\">{1: Marc Chagall}</pre></td>\n",
       "    </tr>\n",
       "    <tr>\n",
       "      <td><pre style=\"text-align:left; background-color:transparent; margin:0;\">tzebuergesch Lietuvių Magyar Македонски Malagasy مصرى Nederlands Nedersaksies 日本語 Norsk bokmål Norsk nynorsk Occitan Oʻzbekcha / ўзбекча پنجابی Picard Piemont</pre></td>\n",
       "      <td><pre style=\"text-align:left; background-color:transparent; margin:0;\">{1: Marc Chagall}</pre></td>\n",
       "    </tr>\n",
       "    <tr>\n",
       "      <td><pre style=\"text-align:left; background-color:transparent; margin:0;\">èis Plattdüütsch Polski Português Română Runa Simi Русский Scots Shqip Sicilianu Simple English Slovenčina Slovenščina کوردی Српски / srpski Srpskohrvatski / српскохрватски Suomi</pre></td>\n",
       "      <td><pre style=\"text-align:left; background-color:transparent; margin:0;\">{1: Marc Chagall}</pre></td>\n",
       "    </tr>\n",
       "    <tr>\n",
       "      <td><pre style=\"text-align:left; background-color:transparent; margin:0;\"> Svenska ไทย Türkçe Українська Tiếng Việt Winaray 吴语 ייִדיש 粵語 中文 Edit links From Wikipedia, the free encyclopedia Russian-French artist (1887–1985) &quot;Chagall&quot; redirects here</pre></td>\n",
       "      <td><pre style=\"text-align:left; background-color:transparent; margin:0;\">{1: Marc Chagall}</pre></td>\n",
       "    </tr>\n",
       "    <tr>\n",
       "      <td><pre style=\"text-align:left; background-color:transparent; margin:0;\">. For other uses, see Chagall (disambiguation) .</pre></td>\n",
       "      <td><pre style=\"text-align:left; background-color:transparent; margin:0;\">{1: Marc Chagall}</pre></td>\n",
       "    </tr>\n",
       "    <tr>\n",
       "      <td><pre style=\"text-align:left; background-color:transparent; margin:0;\">Marc Chagall Chagall, c. 1920 Born Moishe Shagal ( 1887-07-06 ) 6 July 1887 (N.S.) Liozna , Vitebsk Governorate , Russian Empire (now Belarus) [1] Died 28 March 1985 (1985-03-</pre></td>\n",
       "      <td><pre style=\"text-align:left; background-color:transparent; margin:0;\">{1: Marc Chagall}</pre></td>\n",
       "    </tr>\n",
       "    <tr>\n",
       "      <td><pre style=\"text-align:left; background-color:transparent; margin:0;\">28) (aged 97) Saint-Paul-de-Vence , France Nationality Russian, later French [2] Known for Painting stained glass Notabl ...... Marc Chagall Movement Cubism Expressionism School of Paris Spouses Bella Rosenfeld ​ ​ ( m. 1915; died 1944) ​ Valentina</pre></td>\n",
       "      <td><pre style=\"text-align:left; background-color:transparent; margin:0;\">{1: Marc Chagall}</pre></td>\n",
       "    </tr>\n",
       "    <tr>\n",
       "      <td><pre style=\"text-align:left; background-color:transparent; margin:0;\"> (Vava) Brodsky ​ ​ ( m. 1952) ​ [3] Children 2 [4]</pre></td>\n",
       "      <td><pre style=\"text-align:left; background-color:transparent; margin:0;\">{1: Marc Chagall}</pre></td>\n",
       "    </tr>\n",
       "    <tr>\n",
       "      <td><pre style=\"text-align:left; background-color:transparent; margin:0;\">Marc Chagall [a] (born Moishe Shagal ; 6 July [ O.S. 24 June] 1887 – 28 March 1985) was a Russian-French artist. [b] An early modernist , he was associated with the École de Paris as well as several major artistic styles and created works</pre></td>\n",
       "      <td><pre style=\"text-align:left; background-color:transparent; margin:0;\">{1: Marc Chagall}</pre></td>\n",
       "    </tr>\n",
       "    <tr>\n",
       "      <td><pre style=\"text-align:left; background-color:transparent; margin:0;\"> in a wide range of artistic formats, including painting, drawings, book illustrations, stained glass , stage sets, ceramics, tapestries and fine art prints.</pre></td>\n",
       "      <td><pre style=\"text-align:left; background-color:transparent; margin:0;\">{1: Marc Chagall}</pre></td>\n",
       "    </tr>\n",
       "    <tr>\n",
       "      <td><pre style=\"text-align:left; background-color:transparent; margin:0;\">Chagall was born in 1887, into a Jewish family near Vitebsk , today in Belarus , but at that time in the Pale of Settlem ...... t Petersburg , Paris , and Berlin . During that period, he created his own mixture and style of modern art, based on his</pre></td>\n",
       "      <td><pre style=\"text-align:left; background-color:transparent; margin:0;\">{1: Marc Chagall}</pre></td>\n",
       "    </tr>\n",
       "    <tr>\n",
       "      <td><pre style=\"text-align:left; background-color:transparent; margin:0;\"> ideas of Eastern European and Jewish folklore. He spent the wartime years in his native Belarus, becoming one of the co ......  in difficult conditions during hard times in Russia following the Bolshevik Revolution , before leaving again for Paris</pre></td>\n",
       "      <td><pre style=\"text-align:left; background-color:transparent; margin:0;\">{1: Marc Chagall}</pre></td>\n",
       "    </tr>\n",
       "    <tr>\n",
       "      <td><pre style=\"text-align:left; background-color:transparent; margin:0;\"> in 1923. During World War II , he escaped occupied France to the United States, where he lived in New York City for seven years before returning to France in 1948.</pre></td>\n",
       "      <td><pre style=\"text-align:left; background-color:transparent; margin:0;\">{1: Marc Chagall}</pre></td>\n",
       "    </tr>\n",
       "    <tr>\n",
       "      <td><pre style=\"text-align:left; background-color:transparent; margin:0;\">Art critic Robert Hughes referred to Chagall as &quot;the quintessential Jewish artist of the twentieth century&quot;. According t ...... ration of European modernists&quot;. For decades, he &quot;had also been respected as the world&#x27;s pre-eminent Jewish artist&quot;. [15]</pre></td>\n",
       "      <td><pre style=\"text-align:left; background-color:transparent; margin:0;\">{1: Marc Chagall}</pre></td>\n",
       "    </tr>\n",
       "    <tr>\n",
       "      <td><pre style=\"text-align:left; background-color:transparent; margin:0;\"> Using the medium of stained glass, he produced windows for the cathedrals of Reims and Metz as well as the Fraumünster  ......  Windows in Israel. He also did large-scale paintings, including part of the ceiling of the Paris Opéra . He experienced</pre></td>\n",
       "      <td><pre style=\"text-align:left; background-color:transparent; margin:0;\">{1: Marc Chagall}</pre></td>\n",
       "    </tr>\n",
       "    <tr>\n",
       "      <td><pre style=\"text-align:left; background-color:transparent; margin:0;\"> modernism&#x27;s &quot;golden age&quot; in Paris, where &quot;he synthesized the art forms of Cubism , Symbolism , and Fauvism , and the in ...... hout these phases of his style &quot;he remained most emphatically a Jewish artist, whose work was one long dreamy reverie of</pre></td>\n",
       "      <td><pre style=\"text-align:left; background-color:transparent; margin:0;\">{1: Marc Chagall}</pre></td>\n",
       "    </tr>\n",
       "    <tr>\n",
       "      <td><pre style=\"text-align:left; background-color:transparent; margin:0;\"> life in his native village of Vitebsk.&quot; [16] &quot;When Matisse dies&quot;, Pablo Picasso remarked in the 1950s, &quot;Chagall will be the only painter left who understands what colour really is&quot;. [17]</pre></td>\n",
       "      <td><pre style=\"text-align:left; background-color:transparent; margin:0;\">{1: Marc Chagall}</pre></td>\n",
       "    </tr>\n",
       "  </tbody>\n",
       "</table>"
      ],
      "text/plain": [
       "                                                 text                heading\n",
       "0   Marc Chagall - Wikipedia Jump to content Searc...                     {}\n",
       "1   Marc Chagall 81 languages Afrikaans Alemannisc...  {'1': 'Marc Chagall'}\n",
       "2   ортса Беларуская Беларуская (тарашкевіца) Бълг...  {'1': 'Marc Chagall'}\n",
       "3   국어 Հայերեն हिन्दी Hrvatski Ido Bahasa Indonesi...  {'1': 'Marc Chagall'}\n",
       "4   tzebuergesch Lietuvių Magyar Македонски Malaga...  {'1': 'Marc Chagall'}\n",
       "5   èis Plattdüütsch Polski Português Română Runa ...  {'1': 'Marc Chagall'}\n",
       "6    Svenska ไทย Türkçe Українська Tiếng Việt Wina...  {'1': 'Marc Chagall'}\n",
       "7    . For other uses, see Chagall (disambiguation) .  {'1': 'Marc Chagall'}\n",
       "8   Marc Chagall Chagall, c. 1920 Born Moishe Shag...  {'1': 'Marc Chagall'}\n",
       "9   28) (aged 97) Saint-Paul-de-Vence , France Nat...  {'1': 'Marc Chagall'}\n",
       "10   (Vava) Brodsky ​ ​ ( m. 1952) ​ [3] Children ...  {'1': 'Marc Chagall'}\n",
       "11  Marc Chagall [a] (born Moishe Shagal ; 6 July ...  {'1': 'Marc Chagall'}\n",
       "12   in a wide range of artistic formats, includin...  {'1': 'Marc Chagall'}\n",
       "13  Chagall was born in 1887, into a Jewish family...  {'1': 'Marc Chagall'}\n",
       "14   ideas of Eastern European and Jewish folklore...  {'1': 'Marc Chagall'}\n",
       "15   in 1923. During World War II , he escaped occ...  {'1': 'Marc Chagall'}\n",
       "16  Art critic Robert Hughes referred to Chagall a...  {'1': 'Marc Chagall'}\n",
       "17   Using the medium of stained glass, he produce...  {'1': 'Marc Chagall'}\n",
       "18   modernism's \"golden age\" in Paris, where \"he ...  {'1': 'Marc Chagall'}\n",
       "19   life in his native village of Vitebsk.\" [16] ...  {'1': 'Marc Chagall'}"
      ]
     },
     "execution_count": 14,
     "metadata": {},
     "output_type": "execute_result"
    }
   ],
   "source": [
    "short_chunks.select(short_chunks.text, short_chunks.heading).show(20)"
   ]
  },
  {
   "cell_type": "code",
   "execution_count": 15,
   "id": "bb32ade8-9727-4ebc-b57a-ff8097aca993",
   "metadata": {
    "execution": {
     "iopub.execute_input": "2024-05-22T22:49:18.055984Z",
     "iopub.status.busy": "2024-05-22T22:49:18.055874Z",
     "iopub.status.idle": "2024-05-22T22:49:18.063206Z",
     "shell.execute_reply": "2024-05-22T22:49:18.062938Z",
     "shell.execute_reply.started": "2024-05-22T22:49:18.055974Z"
    }
   },
   "outputs": [
    {
     "data": {
      "text/html": [
       "<table border=\"1\" class=\"dataframe\">\n",
       "  <thead>\n",
       "    <tr style=\"text-align: right;\">\n",
       "      <th>text</th>\n",
       "      <th>heading</th>\n",
       "    </tr>\n",
       "  </thead>\n",
       "  <tbody>\n",
       "    <tr>\n",
       "      <td><pre style=\"text-align:left; background-color:transparent; margin:0;\">Marc Chagall - Wikipedia Jump to content Search Search</pre></td>\n",
       "      <td><pre style=\"text-align:left; background-color:transparent; margin:0;\">{}</pre></td>\n",
       "    </tr>\n",
       "    <tr>\n",
       "      <td><pre style=\"text-align:left; background-color:transparent; margin:0;\">Marc Chagall 81 languages Afrikaans Alemannisch العربية Aragonés Արեւմտա</pre></td>\n",
       "      <td><pre style=\"text-align:left; background-color:transparent; margin:0;\">{1: Marc Chagall}</pre></td>\n",
       "    </tr>\n",
       "    <tr>\n",
       "      <td><pre style=\"text-align:left; background-color:transparent; margin:0;\">հայերէն Asturianu Azərbaycanca বাংলা Башҡортса Беларуская Беларуская (та</pre></td>\n",
       "      <td><pre style=\"text-align:left; background-color:transparent; margin:0;\">{1: Marc Chagall}</pre></td>\n",
       "    </tr>\n",
       "    <tr>\n",
       "      <td><pre style=\"text-align:left; background-color:transparent; margin:0;\">рашкевіца) Български Català Čeština Cymraeg Dansk Deutsch Eesti Ελληνικά</pre></td>\n",
       "      <td><pre style=\"text-align:left; background-color:transparent; margin:0;\">{1: Marc Chagall}</pre></td>\n",
       "    </tr>\n",
       "    <tr>\n",
       "      <td><pre style=\"text-align:left; background-color:transparent; margin:0;\"> Español Esperanto Euskara فارسی Français Galego 한국어 Հայերեն हिन्दी Hrva</pre></td>\n",
       "      <td><pre style=\"text-align:left; background-color:transparent; margin:0;\">{1: Marc Chagall}</pre></td>\n",
       "    </tr>\n",
       "    <tr>\n",
       "      <td><pre style=\"text-align:left; background-color:transparent; margin:0;\">tski Ido Bahasa Indonesia Interlingua Italiano עברית Jawa ქართული Kiswah</pre></td>\n",
       "      <td><pre style=\"text-align:left; background-color:transparent; margin:0;\">{1: Marc Chagall}</pre></td>\n",
       "    </tr>\n",
       "    <tr>\n",
       "      <td><pre style=\"text-align:left; background-color:transparent; margin:0;\">ili Latina Latviešu Lëtzebuergesch Lietuvių Magyar Македонски Malagasy م</pre></td>\n",
       "      <td><pre style=\"text-align:left; background-color:transparent; margin:0;\">{1: Marc Chagall}</pre></td>\n",
       "    </tr>\n",
       "    <tr>\n",
       "      <td><pre style=\"text-align:left; background-color:transparent; margin:0;\">صرى Nederlands Nedersaksies 日本語 Norsk bokmål Norsk nynorsk Occitan Oʻzbe</pre></td>\n",
       "      <td><pre style=\"text-align:left; background-color:transparent; margin:0;\">{1: Marc Chagall}</pre></td>\n",
       "    </tr>\n",
       "    <tr>\n",
       "      <td><pre style=\"text-align:left; background-color:transparent; margin:0;\">kcha / ўзбекча پنجابی Picard Piemontèis Plattdüütsch Polski Português Ro</pre></td>\n",
       "      <td><pre style=\"text-align:left; background-color:transparent; margin:0;\">{1: Marc Chagall}</pre></td>\n",
       "    </tr>\n",
       "    <tr>\n",
       "      <td><pre style=\"text-align:left; background-color:transparent; margin:0;\">mână Runa Simi Русский Scots Shqip Sicilianu Simple English Slovenčina S</pre></td>\n",
       "      <td><pre style=\"text-align:left; background-color:transparent; margin:0;\">{1: Marc Chagall}</pre></td>\n",
       "    </tr>\n",
       "    <tr>\n",
       "      <td><pre style=\"text-align:left; background-color:transparent; margin:0;\">lovenščina کوردی Српски / srpski Srpskohrvatski / српскохрватски Suomi S</pre></td>\n",
       "      <td><pre style=\"text-align:left; background-color:transparent; margin:0;\">{1: Marc Chagall}</pre></td>\n",
       "    </tr>\n",
       "    <tr>\n",
       "      <td><pre style=\"text-align:left; background-color:transparent; margin:0;\">venska ไทย Türkçe Українська Tiếng Việt Winaray 吴语 ייִדיש 粵語 中文 Edit lin</pre></td>\n",
       "      <td><pre style=\"text-align:left; background-color:transparent; margin:0;\">{1: Marc Chagall}</pre></td>\n",
       "    </tr>\n",
       "    <tr>\n",
       "      <td><pre style=\"text-align:left; background-color:transparent; margin:0;\">ks From Wikipedia, the free encyclopedia Russian-French artist (1887–198</pre></td>\n",
       "      <td><pre style=\"text-align:left; background-color:transparent; margin:0;\">{1: Marc Chagall}</pre></td>\n",
       "    </tr>\n",
       "    <tr>\n",
       "      <td><pre style=\"text-align:left; background-color:transparent; margin:0;\">5) &quot;Chagall&quot; redirects here. For other uses, see Chagall (disambiguation</pre></td>\n",
       "      <td><pre style=\"text-align:left; background-color:transparent; margin:0;\">{1: Marc Chagall}</pre></td>\n",
       "    </tr>\n",
       "    <tr>\n",
       "      <td><pre style=\"text-align:left; background-color:transparent; margin:0;\">) .</pre></td>\n",
       "      <td><pre style=\"text-align:left; background-color:transparent; margin:0;\">{1: Marc Chagall}</pre></td>\n",
       "    </tr>\n",
       "    <tr>\n",
       "      <td><pre style=\"text-align:left; background-color:transparent; margin:0;\">Marc Chagall Chagall, c. 1920 Born Moishe Shagal ( 1887-07-06 ) 6 July 1</pre></td>\n",
       "      <td><pre style=\"text-align:left; background-color:transparent; margin:0;\">{1: Marc Chagall}</pre></td>\n",
       "    </tr>\n",
       "    <tr>\n",
       "      <td><pre style=\"text-align:left; background-color:transparent; margin:0;\">887 (N.S.) Liozna , Vitebsk Governorate , Russian Empire (now Belarus) [</pre></td>\n",
       "      <td><pre style=\"text-align:left; background-color:transparent; margin:0;\">{1: Marc Chagall}</pre></td>\n",
       "    </tr>\n",
       "    <tr>\n",
       "      <td><pre style=\"text-align:left; background-color:transparent; margin:0;\">1] Died 28 March 1985 (1985-03-28) (aged 97) Saint-Paul-de-Vence , Franc</pre></td>\n",
       "      <td><pre style=\"text-align:left; background-color:transparent; margin:0;\">{1: Marc Chagall}</pre></td>\n",
       "    </tr>\n",
       "    <tr>\n",
       "      <td><pre style=\"text-align:left; background-color:transparent; margin:0;\">e Nationality Russian, later French [2] Known for Painting stained glass</pre></td>\n",
       "      <td><pre style=\"text-align:left; background-color:transparent; margin:0;\">{1: Marc Chagall}</pre></td>\n",
       "    </tr>\n",
       "    <tr>\n",
       "      <td><pre style=\"text-align:left; background-color:transparent; margin:0;\"> Notable work See list of artworks by Marc Chagall Movement Cubism Expre</pre></td>\n",
       "      <td><pre style=\"text-align:left; background-color:transparent; margin:0;\">{1: Marc Chagall}</pre></td>\n",
       "    </tr>\n",
       "  </tbody>\n",
       "</table>"
      ],
      "text/plain": [
       "                                                 text                heading\n",
       "0   Marc Chagall - Wikipedia Jump to content Searc...                     {}\n",
       "1   Marc Chagall 81 languages Afrikaans Alemannisc...  {'1': 'Marc Chagall'}\n",
       "2   հայերէն Asturianu Azərbaycanca বাংলা Башҡортса...  {'1': 'Marc Chagall'}\n",
       "3   рашкевіца) Български Català Čeština Cymraeg Da...  {'1': 'Marc Chagall'}\n",
       "4    Español Esperanto Euskara فارسی Français Gale...  {'1': 'Marc Chagall'}\n",
       "5   tski Ido Bahasa Indonesia Interlingua Italiano...  {'1': 'Marc Chagall'}\n",
       "6   ili Latina Latviešu Lëtzebuergesch Lietuvių Ma...  {'1': 'Marc Chagall'}\n",
       "7   صرى Nederlands Nedersaksies 日本語 Norsk bokmål N...  {'1': 'Marc Chagall'}\n",
       "8   kcha / ўзбекча پنجابی Picard Piemontèis Plattd...  {'1': 'Marc Chagall'}\n",
       "9   mână Runa Simi Русский Scots Shqip Sicilianu S...  {'1': 'Marc Chagall'}\n",
       "10  lovenščina کوردی Српски / srpski Srpskohrvatsk...  {'1': 'Marc Chagall'}\n",
       "11  venska ไทย Türkçe Українська Tiếng Việt Winara...  {'1': 'Marc Chagall'}\n",
       "12  ks From Wikipedia, the free encyclopedia Russi...  {'1': 'Marc Chagall'}\n",
       "13  5) \"Chagall\" redirects here. For other uses, s...  {'1': 'Marc Chagall'}\n",
       "14                                                ) .  {'1': 'Marc Chagall'}\n",
       "15  Marc Chagall Chagall, c. 1920 Born Moishe Shag...  {'1': 'Marc Chagall'}\n",
       "16  887 (N.S.) Liozna , Vitebsk Governorate , Russ...  {'1': 'Marc Chagall'}\n",
       "17  1] Died 28 March 1985 (1985-03-28) (aged 97) S...  {'1': 'Marc Chagall'}\n",
       "18  e Nationality Russian, later French [2] Known ...  {'1': 'Marc Chagall'}\n",
       "19   Notable work See list of artworks by Marc Cha...  {'1': 'Marc Chagall'}"
      ]
     },
     "execution_count": 15,
     "metadata": {},
     "output_type": "execute_result"
    }
   ],
   "source": [
    "short_char_chunks.select(short_char_chunks.text, short_char_chunks.heading).show(20)"
   ]
  },
  {
   "cell_type": "markdown",
   "id": "556d86ab-ef09-43e6-8bff-95caf8b8e45d",
   "metadata": {},
   "source": [
    "Now let's add a few more documents to our workflow. Notice how all of the downstream views are updated incrementally, processing just the new documents as they are inserted."
   ]
  },
  {
   "cell_type": "code",
   "execution_count": 16,
   "id": "71735d6a-3f99-46ef-99d7-4783aa6840cb",
   "metadata": {
    "execution": {
     "iopub.execute_input": "2024-05-22T22:49:18.063912Z",
     "iopub.status.busy": "2024-05-22T22:49:18.063790Z",
     "iopub.status.idle": "2024-05-22T22:49:27.529189Z",
     "shell.execute_reply": "2024-05-22T22:49:27.528928Z",
     "shell.execute_reply.started": "2024-05-22T22:49:18.063900Z"
    }
   },
   "outputs": [
    {
     "name": "stdout",
     "output_type": "stream",
     "text": [
      "Inserting rows into `docs`: 3 rows [00:00, 3640.89 rows/s]\n",
      "Inserting rows into `sentences`: 2105 rows [00:03, 645.11 rows/s]\n",
      "Inserting rows into `chunks`: 276 rows [00:00, 15634.75 rows/s]\n",
      "Inserting rows into `short_chunks`: 811 rows [00:00, 19953.19 rows/s]\n",
      "Inserting rows into `short_char_chunks`: 2636 rows [00:00, 5401.02 rows/s]\n",
      "Inserted 5831 rows with 0 errors.\n"
     ]
    },
    {
     "data": {
      "text/plain": [
       "UpdateStatus(num_rows=5831, num_computed_values=0, num_excs=0, updated_cols=[], cols_with_excs=[])"
      ]
     },
     "execution_count": 16,
     "metadata": {},
     "output_type": "execute_result"
    }
   ],
   "source": [
    "urls = [\n",
    "    'https://en.wikipedia.org/wiki/Pierre-Auguste_Renoir',\n",
    "    'https://en.wikipedia.org/wiki/Henri_Matisse',\n",
    "    'https://en.wikipedia.org/wiki/Marcel_Duchamp'\n",
    "]\n",
    "docs.insert({'source_doc': url} for url in urls)"
   ]
  },
  {
   "cell_type": "markdown",
   "id": "bdf1e13c-b038-40ee-b48c-35d514149c62",
   "metadata": {},
   "source": [
    "## Further Experiments\n",
    "\n",
    "This is a good time to mention another important guiding principle of Pixeltable. The preceding examples all used the built-in `DocumentSplitter` class with various configurations. That's probably fine as a first cut or to prototype an application quickly, and it might be sufficient for some applications. But other applications might want to do more sophisticated kinds of chunking, implementing their own specialized logic or leveraging third-party tools. Pixeltable imposes no constraints on the AI or RAG operations a workflow uses: the iterator interface is highly general, and it's easy to implement new operations or adapt existing code or third-party tools into the Pixeltable workflow."
   ]
  },
  {
   "cell_type": "markdown",
   "id": "709a4be2",
   "metadata": {},
   "source": [
    "## Computing Embeddings"
   ]
  },
  {
   "cell_type": "markdown",
   "id": "fa455441-bfd1-41cc-a802-a396a2323c4f",
   "metadata": {},
   "source": [
    "Next, let's look at how embedding indices can be added seamlessly to existing Pixeltable workflows. To compute our embeddings, we'll use the Huggingface `sentence_transformer` package, running it over the `chunks` view that broke our documents up into larger paragraphs. Pixeltable has a built-in `sentence_transformer` adapter, and all we have to do is add a new column that leverages it. Pixeltable takes care of the rest, applying the new column to all existing data in the view."
   ]
  },
  {
   "cell_type": "code",
   "execution_count": 17,
   "id": "e0d7ea4a",
   "metadata": {
    "execution": {
     "iopub.execute_input": "2024-05-22T22:49:27.530125Z",
     "iopub.status.busy": "2024-05-22T22:49:27.529846Z",
     "iopub.status.idle": "2024-05-22T22:49:28.806352Z",
     "shell.execute_reply": "2024-05-22T22:49:28.806077Z",
     "shell.execute_reply.started": "2024-05-22T22:49:27.530113Z"
    }
   },
   "outputs": [
    {
     "name": "stdout",
     "output_type": "stream",
     "text": [
      "Computing cells: 100%|███████████████████████████████████████| 481/481 [00:01<00:00, 379.37 cells/s]\n",
      "Added 481 column values with 0 errors.\n"
     ]
    }
   ],
   "source": [
    "from pixeltable.functions.huggingface import sentence_transformer\n",
    "\n",
    "chunks['minilm_embed'] =sentence_transformer(chunks.text, model_id='paraphrase-MiniLM-L6-v2')"
   ]
  },
  {
   "cell_type": "markdown",
   "id": "65bb3b1b-04fd-422b-a070-d3faa16033e0",
   "metadata": {},
   "source": [
    "The new column is a *computed column*: it is defined as a function on top of existing data and updated incrementally as new data are added to the workflow. Let's have a look at how the new column affected the `chunks` view."
   ]
  },
  {
   "cell_type": "code",
   "execution_count": 18,
   "id": "3cf786cc",
   "metadata": {
    "execution": {
     "iopub.execute_input": "2024-05-22T22:49:28.806935Z",
     "iopub.status.busy": "2024-05-22T22:49:28.806761Z",
     "iopub.status.idle": "2024-05-22T22:49:28.812366Z",
     "shell.execute_reply": "2024-05-22T22:49:28.811933Z",
     "shell.execute_reply.started": "2024-05-22T22:49:28.806924Z"
    }
   },
   "outputs": [
    {
     "data": {
      "text/html": [
       "<style type=\"text/css\">\n",
       "#T_e082d th {\n",
       "  text-align: center;\n",
       "}\n",
       "#T_e082d_row0_col0, #T_e082d_row0_col1, #T_e082d_row0_col2, #T_e082d_row1_col0, #T_e082d_row1_col1, #T_e082d_row1_col2, #T_e082d_row2_col0, #T_e082d_row2_col1, #T_e082d_row2_col2, #T_e082d_row3_col0, #T_e082d_row3_col1, #T_e082d_row3_col2, #T_e082d_row4_col0, #T_e082d_row4_col1, #T_e082d_row4_col2, #T_e082d_row5_col0, #T_e082d_row5_col1, #T_e082d_row5_col2, #T_e082d_row6_col0, #T_e082d_row6_col1, #T_e082d_row6_col2 {\n",
       "  white-space: pre-wrap;\n",
       "  text-align: left;\n",
       "}\n",
       "</style>\n",
       "<table id=\"T_e082d\">\n",
       "  <thead>\n",
       "    <tr>\n",
       "      <th id=\"T_e082d_level0_col0\" class=\"col_heading level0 col0\" >Column Name</th>\n",
       "      <th id=\"T_e082d_level0_col1\" class=\"col_heading level0 col1\" >Type</th>\n",
       "      <th id=\"T_e082d_level0_col2\" class=\"col_heading level0 col2\" >Computed With</th>\n",
       "    </tr>\n",
       "  </thead>\n",
       "  <tbody>\n",
       "    <tr>\n",
       "      <td id=\"T_e082d_row0_col0\" class=\"data row0 col0\" >pos</td>\n",
       "      <td id=\"T_e082d_row0_col1\" class=\"data row0 col1\" >int</td>\n",
       "      <td id=\"T_e082d_row0_col2\" class=\"data row0 col2\" ></td>\n",
       "    </tr>\n",
       "    <tr>\n",
       "      <td id=\"T_e082d_row1_col0\" class=\"data row1 col0\" >text</td>\n",
       "      <td id=\"T_e082d_row1_col1\" class=\"data row1 col1\" >string</td>\n",
       "      <td id=\"T_e082d_row1_col2\" class=\"data row1 col2\" ></td>\n",
       "    </tr>\n",
       "    <tr>\n",
       "      <td id=\"T_e082d_row2_col0\" class=\"data row2 col0\" >title</td>\n",
       "      <td id=\"T_e082d_row2_col1\" class=\"data row2 col1\" >string</td>\n",
       "      <td id=\"T_e082d_row2_col2\" class=\"data row2 col2\" ></td>\n",
       "    </tr>\n",
       "    <tr>\n",
       "      <td id=\"T_e082d_row3_col0\" class=\"data row3 col0\" >heading</td>\n",
       "      <td id=\"T_e082d_row3_col1\" class=\"data row3 col1\" >json</td>\n",
       "      <td id=\"T_e082d_row3_col2\" class=\"data row3 col2\" ></td>\n",
       "    </tr>\n",
       "    <tr>\n",
       "      <td id=\"T_e082d_row4_col0\" class=\"data row4 col0\" >sourceline</td>\n",
       "      <td id=\"T_e082d_row4_col1\" class=\"data row4 col1\" >int</td>\n",
       "      <td id=\"T_e082d_row4_col2\" class=\"data row4 col2\" ></td>\n",
       "    </tr>\n",
       "    <tr>\n",
       "      <td id=\"T_e082d_row5_col0\" class=\"data row5 col0\" >minilm_embed</td>\n",
       "      <td id=\"T_e082d_row5_col1\" class=\"data row5 col1\" >array((384,), dtype=FLOAT)</td>\n",
       "      <td id=\"T_e082d_row5_col2\" class=\"data row5 col2\" >sentence_transformer(text, model_id='paraphrase-MiniLM-L6-v2')</td>\n",
       "    </tr>\n",
       "    <tr>\n",
       "      <td id=\"T_e082d_row6_col0\" class=\"data row6 col0\" >source_doc</td>\n",
       "      <td id=\"T_e082d_row6_col1\" class=\"data row6 col1\" >document</td>\n",
       "      <td id=\"T_e082d_row6_col2\" class=\"data row6 col2\" ></td>\n",
       "    </tr>\n",
       "  </tbody>\n",
       "</table>\n"
      ],
      "text/plain": [
       "view 'chunks'\n",
       "\n",
       " Column Name                       Type                                                  Computed With\n",
       "         pos                        int                                                               \n",
       "        text                     string                                                               \n",
       "       title                     string                                                               \n",
       "     heading                       json                                                               \n",
       "  sourceline                        int                                                               \n",
       "minilm_embed array((384,), dtype=FLOAT) sentence_transformer(text, model_id='paraphrase-MiniLM-L6-v2')\n",
       "  source_doc                   document                                                               "
      ]
     },
     "execution_count": 18,
     "metadata": {},
     "output_type": "execute_result"
    }
   ],
   "source": [
    "chunks"
   ]
  },
  {
   "cell_type": "code",
   "execution_count": 19,
   "id": "bc2893b5",
   "metadata": {
    "execution": {
     "iopub.execute_input": "2024-05-22T22:49:28.813174Z",
     "iopub.status.busy": "2024-05-22T22:49:28.813017Z",
     "iopub.status.idle": "2024-05-22T22:49:28.826737Z",
     "shell.execute_reply": "2024-05-22T22:49:28.826396Z",
     "shell.execute_reply.started": "2024-05-22T22:49:28.813163Z"
    }
   },
   "outputs": [
    {
     "data": {
      "text/html": [
       "<table border=\"1\" class=\"dataframe\">\n",
       "  <thead>\n",
       "    <tr style=\"text-align: right;\">\n",
       "      <th>pos</th>\n",
       "      <th>text</th>\n",
       "      <th>title</th>\n",
       "      <th>heading</th>\n",
       "      <th>sourceline</th>\n",
       "      <th>minilm_embed</th>\n",
       "      <th>source_doc</th>\n",
       "    </tr>\n",
       "  </thead>\n",
       "  <tbody>\n",
       "    <tr>\n",
       "      <td>0</td>\n",
       "      <td><pre style=\"text-align:left; background-color:transparent; margin:0;\">Marc Chagall - Wikipedia Jump to content Search Search</pre></td>\n",
       "      <td><pre style=\"text-align:left; background-color:transparent; margin:0;\">Marc Chagall - Wikipedia</pre></td>\n",
       "      <td><pre style=\"text-align:left; background-color:transparent; margin:0;\">{}</pre></td>\n",
       "      <td>0</td>\n",
       "      <td><pre style=\"text-align:left; background-color:transparent; margin:0;\">[-0.262,-0.119,-0.133, 0.048, 0.12 ,-0.006,...,-0.556, 0.372, 0.468,-0.234,\n",
       " -0.226, 0.164]</pre></td>\n",
       "      <td><div class=\"pxt_document\" style=\"width:320px;\">\n",
       "            <a href=\"http://127.0.0.1:64995/Users/orm/.pixeltable/file_cache/e04c4df579814f55a952d0b64618e7dc_0_3c5b8031c7610e17a42ab6df79e614c2ee1a85dbd022497373d574cf65e15c51\">\n",
       "                /Users/orm/.pixeltable/file_cache/e04c4df579814f55a952d0b64618e7dc_0_3c5b8031c7610e17a42ab6df79e614c2ee1a85dbd022497373d574cf65e15c51\n",
       "            </a>\n",
       "        </div></td>\n",
       "    </tr>\n",
       "    <tr>\n",
       "      <td>1</td>\n",
       "      <td><pre style=\"text-align:left; background-color:transparent; margin:0;\">Marc Chagall 81 languages Afrikaans Alemannisch العربية Aragonés Արեւմտահայերէն Asturianu Azərbaycanca বাংলা Башҡортса Б ......  encyclopedia Russian-French artist (1887–1985) &quot;Chagall&quot; redirects here. For other uses, see Chagall (disambiguation) .</pre></td>\n",
       "      <td><pre style=\"text-align:left; background-color:transparent; margin:0;\">Marc Chagall - Wikipedia</pre></td>\n",
       "      <td><pre style=\"text-align:left; background-color:transparent; margin:0;\">{1: Marc Chagall}</pre></td>\n",
       "      <td>820</td>\n",
       "      <td><pre style=\"text-align:left; background-color:transparent; margin:0;\">[-0.136, 0.401,-0.53 ,-0.181,-0.453,-0.125,...,-0.184, 0.122, 0.644,-0.54 ,\n",
       "  0.188, 0.203]</pre></td>\n",
       "      <td><div class=\"pxt_document\" style=\"width:320px;\">\n",
       "            <a href=\"http://127.0.0.1:64995/Users/orm/.pixeltable/file_cache/e04c4df579814f55a952d0b64618e7dc_0_3c5b8031c7610e17a42ab6df79e614c2ee1a85dbd022497373d574cf65e15c51\">\n",
       "                /Users/orm/.pixeltable/file_cache/e04c4df579814f55a952d0b64618e7dc_0_3c5b8031c7610e17a42ab6df79e614c2ee1a85dbd022497373d574cf65e15c51\n",
       "            </a>\n",
       "        </div></td>\n",
       "    </tr>\n",
       "    <tr>\n",
       "      <td>2</td>\n",
       "      <td><pre style=\"text-align:left; background-color:transparent; margin:0;\">Marc Chagall Chagall, c. 1920 Born Moishe Shagal ( 1887-07-06 ) 6 July 1887 (N.S.) Liozna , Vitebsk Governorate , Russia ...... f Paris Spouses Bella Rosenfeld ​ ​ ( m. 1915; died 1944) ​ Valentina (Vava) Brodsky ​ ​ ( m. 1952) ​ [3] Children 2 [4]</pre></td>\n",
       "      <td><pre style=\"text-align:left; background-color:transparent; margin:0;\">Marc Chagall - Wikipedia</pre></td>\n",
       "      <td><pre style=\"text-align:left; background-color:transparent; margin:0;\">{1: Marc Chagall}</pre></td>\n",
       "      <td>1015</td>\n",
       "      <td><pre style=\"text-align:left; background-color:transparent; margin:0;\">[ 6.518e-05, 3.302e-01,-3.144e-01, 1.680e-01,-1.229e-01, 3.993e-01,...,\n",
       " -1.386e-01,-1.360e-01, 9.149e-02,-4.365e-01,-1.723e-01,-4.351e-02]</pre></td>\n",
       "      <td><div class=\"pxt_document\" style=\"width:320px;\">\n",
       "            <a href=\"http://127.0.0.1:64995/Users/orm/.pixeltable/file_cache/e04c4df579814f55a952d0b64618e7dc_0_3c5b8031c7610e17a42ab6df79e614c2ee1a85dbd022497373d574cf65e15c51\">\n",
       "                /Users/orm/.pixeltable/file_cache/e04c4df579814f55a952d0b64618e7dc_0_3c5b8031c7610e17a42ab6df79e614c2ee1a85dbd022497373d574cf65e15c51\n",
       "            </a>\n",
       "        </div></td>\n",
       "    </tr>\n",
       "    <tr>\n",
       "      <td>3</td>\n",
       "      <td><pre style=\"text-align:left; background-color:transparent; margin:0;\">Marc Chagall [a] (born Moishe Shagal ; 6 July [ O.S. 24 June] 1887 – 28 March 1985) was a Russian-French artist. [b] An  ......  including painting, drawings, book illustrations, stained glass , stage sets, ceramics, tapestries and fine art prints.</pre></td>\n",
       "      <td><pre style=\"text-align:left; background-color:transparent; margin:0;\">Marc Chagall - Wikipedia</pre></td>\n",
       "      <td><pre style=\"text-align:left; background-color:transparent; margin:0;\">{1: Marc Chagall}</pre></td>\n",
       "      <td>1029</td>\n",
       "      <td><pre style=\"text-align:left; background-color:transparent; margin:0;\">[ 0.061, 0.155,-0.189, 0.168,-0.089, 0.171,...,-0.136,-0.32 , 0.249,-0.007,\n",
       " -0.094, 0.025]</pre></td>\n",
       "      <td><div class=\"pxt_document\" style=\"width:320px;\">\n",
       "            <a href=\"http://127.0.0.1:64995/Users/orm/.pixeltable/file_cache/e04c4df579814f55a952d0b64618e7dc_0_3c5b8031c7610e17a42ab6df79e614c2ee1a85dbd022497373d574cf65e15c51\">\n",
       "                /Users/orm/.pixeltable/file_cache/e04c4df579814f55a952d0b64618e7dc_0_3c5b8031c7610e17a42ab6df79e614c2ee1a85dbd022497373d574cf65e15c51\n",
       "            </a>\n",
       "        </div></td>\n",
       "    </tr>\n",
       "    <tr>\n",
       "      <td>4</td>\n",
       "      <td><pre style=\"text-align:left; background-color:transparent; margin:0;\">Chagall was born in 1887, into a Jewish family near Vitebsk , today in Belarus , but at that time in the Pale of Settlem ...... ccupied France to the United States, where he lived in New York City for seven years before returning to France in 1948.</pre></td>\n",
       "      <td><pre style=\"text-align:left; background-color:transparent; margin:0;\">Marc Chagall - Wikipedia</pre></td>\n",
       "      <td><pre style=\"text-align:left; background-color:transparent; margin:0;\">{1: Marc Chagall}</pre></td>\n",
       "      <td>1030</td>\n",
       "      <td><pre style=\"text-align:left; background-color:transparent; margin:0;\">[ 0.013, 0.248,-0.692, 0.143,-0.379, 0.254,...,-0.232,-0.157,-0.018,-0.225,\n",
       " -0.208,-0.095]</pre></td>\n",
       "      <td><div class=\"pxt_document\" style=\"width:320px;\">\n",
       "            <a href=\"http://127.0.0.1:64995/Users/orm/.pixeltable/file_cache/e04c4df579814f55a952d0b64618e7dc_0_3c5b8031c7610e17a42ab6df79e614c2ee1a85dbd022497373d574cf65e15c51\">\n",
       "                /Users/orm/.pixeltable/file_cache/e04c4df579814f55a952d0b64618e7dc_0_3c5b8031c7610e17a42ab6df79e614c2ee1a85dbd022497373d574cf65e15c51\n",
       "            </a>\n",
       "        </div></td>\n",
       "    </tr>\n",
       "    <tr>\n",
       "      <td>5</td>\n",
       "      <td><pre style=\"text-align:left; background-color:transparent; margin:0;\">Art critic Robert Hughes referred to Chagall as &quot;the quintessential Jewish artist of the twentieth century&quot;. According t ...... Pablo Picasso remarked in the 1950s, &quot;Chagall will be the only painter left who understands what colour really is&quot;. [17]</pre></td>\n",
       "      <td><pre style=\"text-align:left; background-color:transparent; margin:0;\">Marc Chagall - Wikipedia</pre></td>\n",
       "      <td><pre style=\"text-align:left; background-color:transparent; margin:0;\">{1: Marc Chagall}</pre></td>\n",
       "      <td>1031</td>\n",
       "      <td><pre style=\"text-align:left; background-color:transparent; margin:0;\">[-0.172, 0.348,-0.307, 0.034,-0.071, 0.111,...,-0.31 ,-0.011, 0.302,-0.273,\n",
       " -0.163, 0.152]</pre></td>\n",
       "      <td><div class=\"pxt_document\" style=\"width:320px;\">\n",
       "            <a href=\"http://127.0.0.1:64995/Users/orm/.pixeltable/file_cache/e04c4df579814f55a952d0b64618e7dc_0_3c5b8031c7610e17a42ab6df79e614c2ee1a85dbd022497373d574cf65e15c51\">\n",
       "                /Users/orm/.pixeltable/file_cache/e04c4df579814f55a952d0b64618e7dc_0_3c5b8031c7610e17a42ab6df79e614c2ee1a85dbd022497373d574cf65e15c51\n",
       "            </a>\n",
       "        </div></td>\n",
       "    </tr>\n",
       "    <tr>\n",
       "      <td>6</td>\n",
       "      <td><pre style=\"text-align:left; background-color:transparent; margin:0;\">Early life and education [ edit ]</pre></td>\n",
       "      <td><pre style=\"text-align:left; background-color:transparent; margin:0;\">Marc Chagall - Wikipedia</pre></td>\n",
       "      <td><pre style=\"text-align:left; background-color:transparent; margin:0;\">{1: Marc Chagall, 2: Early life and education[edit]}</pre></td>\n",
       "      <td>1034</td>\n",
       "      <td><pre style=\"text-align:left; background-color:transparent; margin:0;\">[-0.213, 0.418, 0.094, 0.135,-0.069, 0.265,...,-0.548, 0.164, 0.075, 0.205,\n",
       "  0.309, 0.277]</pre></td>\n",
       "      <td><div class=\"pxt_document\" style=\"width:320px;\">\n",
       "            <a href=\"http://127.0.0.1:64995/Users/orm/.pixeltable/file_cache/e04c4df579814f55a952d0b64618e7dc_0_3c5b8031c7610e17a42ab6df79e614c2ee1a85dbd022497373d574cf65e15c51\">\n",
       "                /Users/orm/.pixeltable/file_cache/e04c4df579814f55a952d0b64618e7dc_0_3c5b8031c7610e17a42ab6df79e614c2ee1a85dbd022497373d574cf65e15c51\n",
       "            </a>\n",
       "        </div></td>\n",
       "    </tr>\n",
       "    <tr>\n",
       "      <td>7</td>\n",
       "      <td><pre style=\"text-align:left; background-color:transparent; margin:0;\">Early life [ edit ] Marc Chagall&#x27;s childhood home in Vitebsk , Belarus. Currently site of the Marc Chagall Museum . Marc Chagall, 1912, The Spoonful of Milk (La Cuillerée de lait) , gouache on paper</pre></td>\n",
       "      <td><pre style=\"text-align:left; background-color:transparent; margin:0;\">Marc Chagall - Wikipedia</pre></td>\n",
       "      <td><pre style=\"text-align:left; background-color:transparent; margin:0;\">{1: Marc Chagall, 2: Early life and education[edit], 3: Early life[edit]}</pre></td>\n",
       "      <td>1035</td>\n",
       "      <td><pre style=\"text-align:left; background-color:transparent; margin:0;\">[-0.04 , 0.143,-0.357, 0.412,-0.331, 0.201,...,-0.006,-0.057, 0.255, 0.181,\n",
       "  0.018,-0.021]</pre></td>\n",
       "      <td><div class=\"pxt_document\" style=\"width:320px;\">\n",
       "            <a href=\"http://127.0.0.1:64995/Users/orm/.pixeltable/file_cache/e04c4df579814f55a952d0b64618e7dc_0_3c5b8031c7610e17a42ab6df79e614c2ee1a85dbd022497373d574cf65e15c51\">\n",
       "                /Users/orm/.pixeltable/file_cache/e04c4df579814f55a952d0b64618e7dc_0_3c5b8031c7610e17a42ab6df79e614c2ee1a85dbd022497373d574cf65e15c51\n",
       "            </a>\n",
       "        </div></td>\n",
       "    </tr>\n",
       "    <tr>\n",
       "      <td>8</td>\n",
       "      <td><pre style=\"text-align:left; background-color:transparent; margin:0;\">Marc Chagall was born Moishe Shagal in 1887, into a Jewish family in Liozna , [1] near the city of Vitebsk , Belarus, th ...... ecause the city was built mostly of wood, little of it survived years of occupation and destruction during World War II.</pre></td>\n",
       "      <td><pre style=\"text-align:left; background-color:transparent; margin:0;\">Marc Chagall - Wikipedia</pre></td>\n",
       "      <td><pre style=\"text-align:left; background-color:transparent; margin:0;\">{1: Marc Chagall, 2: Early life and education[edit], 3: Early life[edit]}</pre></td>\n",
       "      <td>1038</td>\n",
       "      <td><pre style=\"text-align:left; background-color:transparent; margin:0;\">[ 0.123, 0.198,-0.496, 0.154,-0.368, 0.078,...,-0.057,-0.141,-0.063,-0.096,\n",
       " -0.136,-0.232]</pre></td>\n",
       "      <td><div class=\"pxt_document\" style=\"width:320px;\">\n",
       "            <a href=\"http://127.0.0.1:64995/Users/orm/.pixeltable/file_cache/e04c4df579814f55a952d0b64618e7dc_0_3c5b8031c7610e17a42ab6df79e614c2ee1a85dbd022497373d574cf65e15c51\">\n",
       "                /Users/orm/.pixeltable/file_cache/e04c4df579814f55a952d0b64618e7dc_0_3c5b8031c7610e17a42ab6df79e614c2ee1a85dbd022497373d574cf65e15c51\n",
       "            </a>\n",
       "        </div></td>\n",
       "    </tr>\n",
       "    <tr>\n",
       "      <td>9</td>\n",
       "      <td><pre style=\"text-align:left; background-color:transparent; margin:0;\">Chagall was the eldest of nine children. The family name, Shagal, is a variant of the name Segal , which in a Jewish com ...... les each month (the average wages across the Russian Empire was 13 roubles a month). Chagall wrote of those early years:</pre></td>\n",
       "      <td><pre style=\"text-align:left; background-color:transparent; margin:0;\">Marc Chagall - Wikipedia</pre></td>\n",
       "      <td><pre style=\"text-align:left; background-color:transparent; margin:0;\">{1: Marc Chagall, 2: Early life and education[edit], 3: Early life[edit]}</pre></td>\n",
       "      <td>1039</td>\n",
       "      <td><pre style=\"text-align:left; background-color:transparent; margin:0;\">[-0.19 , 0.266,-0.4  , 0.129,-0.493, 0.063,...,-0.194,-0.2  , 0.322, 0.024,\n",
       " -0.068, 0.031]</pre></td>\n",
       "      <td><div class=\"pxt_document\" style=\"width:320px;\">\n",
       "            <a href=\"http://127.0.0.1:64995/Users/orm/.pixeltable/file_cache/e04c4df579814f55a952d0b64618e7dc_0_3c5b8031c7610e17a42ab6df79e614c2ee1a85dbd022497373d574cf65e15c51\">\n",
       "                /Users/orm/.pixeltable/file_cache/e04c4df579814f55a952d0b64618e7dc_0_3c5b8031c7610e17a42ab6df79e614c2ee1a85dbd022497373d574cf65e15c51\n",
       "            </a>\n",
       "        </div></td>\n",
       "    </tr>\n",
       "  </tbody>\n",
       "</table>"
      ],
      "text/plain": [
       "   pos                                               text  \\\n",
       "0    0  Marc Chagall - Wikipedia Jump to content Searc...   \n",
       "1    1  Marc Chagall 81 languages Afrikaans Alemannisc...   \n",
       "2    2  Marc Chagall Chagall, c. 1920 Born Moishe Shag...   \n",
       "3    3  Marc Chagall [a] (born Moishe Shagal ; 6 July ...   \n",
       "4    4  Chagall was born in 1887, into a Jewish family...   \n",
       "5    5  Art critic Robert Hughes referred to Chagall a...   \n",
       "6    6                  Early life and education [ edit ]   \n",
       "7    7  Early life [ edit ] Marc Chagall's childhood h...   \n",
       "8    8  Marc Chagall was born Moishe Shagal in 1887, i...   \n",
       "9    9  Chagall was the eldest of nine children. The f...   \n",
       "\n",
       "                      title  \\\n",
       "0  Marc Chagall - Wikipedia   \n",
       "1  Marc Chagall - Wikipedia   \n",
       "2  Marc Chagall - Wikipedia   \n",
       "3  Marc Chagall - Wikipedia   \n",
       "4  Marc Chagall - Wikipedia   \n",
       "5  Marc Chagall - Wikipedia   \n",
       "6  Marc Chagall - Wikipedia   \n",
       "7  Marc Chagall - Wikipedia   \n",
       "8  Marc Chagall - Wikipedia   \n",
       "9  Marc Chagall - Wikipedia   \n",
       "\n",
       "                                             heading  sourceline  \\\n",
       "0                                                 {}           0   \n",
       "1                              {'1': 'Marc Chagall'}         820   \n",
       "2                              {'1': 'Marc Chagall'}        1015   \n",
       "3                              {'1': 'Marc Chagall'}        1029   \n",
       "4                              {'1': 'Marc Chagall'}        1030   \n",
       "5                              {'1': 'Marc Chagall'}        1031   \n",
       "6  {'1': 'Marc Chagall', '2': 'Early life and edu...        1034   \n",
       "7  {'1': 'Marc Chagall', '2': 'Early life and edu...        1035   \n",
       "8  {'1': 'Marc Chagall', '2': 'Early life and edu...        1038   \n",
       "9  {'1': 'Marc Chagall', '2': 'Early life and edu...        1039   \n",
       "\n",
       "                                        minilm_embed  \\\n",
       "0  [-0.26239732, -0.11875591, -0.1327097, 0.04825...   \n",
       "1  [-0.13631254, 0.4006328, -0.53002965, -0.18143...   \n",
       "2  [6.517535e-05, 0.33019805, -0.31437707, 0.1679...   \n",
       "3  [0.060708035, 0.15527864, -0.18933795, 0.16767...   \n",
       "4  [0.012889174, 0.24784824, -0.6924429, 0.142611...   \n",
       "5  [-0.17184903, 0.3480283, -0.30670434, 0.033759...   \n",
       "6  [-0.21258698, 0.41762647, 0.094004124, 0.13499...   \n",
       "7  [-0.0404035, 0.14281149, -0.35680765, 0.411817...   \n",
       "8  [0.12289612, 0.1977109, -0.49609962, 0.1543681...   \n",
       "9  [-0.19016077, 0.26621002, -0.40008062, 0.12919...   \n",
       "\n",
       "                                          source_doc  \n",
       "0  /Users/orm/.pixeltable/file_cache/e04c4df57981...  \n",
       "1  /Users/orm/.pixeltable/file_cache/e04c4df57981...  \n",
       "2  /Users/orm/.pixeltable/file_cache/e04c4df57981...  \n",
       "3  /Users/orm/.pixeltable/file_cache/e04c4df57981...  \n",
       "4  /Users/orm/.pixeltable/file_cache/e04c4df57981...  \n",
       "5  /Users/orm/.pixeltable/file_cache/e04c4df57981...  \n",
       "6  /Users/orm/.pixeltable/file_cache/e04c4df57981...  \n",
       "7  /Users/orm/.pixeltable/file_cache/e04c4df57981...  \n",
       "8  /Users/orm/.pixeltable/file_cache/e04c4df57981...  \n",
       "9  /Users/orm/.pixeltable/file_cache/e04c4df57981...  "
      ]
     },
     "execution_count": 19,
     "metadata": {},
     "output_type": "execute_result"
    }
   ],
   "source": [
    "chunks.head()"
   ]
  },
  {
   "cell_type": "markdown",
   "id": "258f0b29-aa1b-4292-8eb0-9dd3cd89d53b",
   "metadata": {},
   "source": [
    "Similarly, we might want to add a CLIP embedding to our workflow; once again, it's just another computed column:"
   ]
  },
  {
   "cell_type": "code",
   "execution_count": 20,
   "id": "bc4811c4",
   "metadata": {
    "execution": {
     "iopub.execute_input": "2024-05-22T22:49:28.827350Z",
     "iopub.status.busy": "2024-05-22T22:49:28.827253Z",
     "iopub.status.idle": "2024-05-22T22:49:30.598130Z",
     "shell.execute_reply": "2024-05-22T22:49:30.597820Z",
     "shell.execute_reply.started": "2024-05-22T22:49:28.827340Z"
    }
   },
   "outputs": [
    {
     "name": "stdout",
     "output_type": "stream",
     "text": [
      "Computing cells: 100%|███████████████████████████████████████| 481/481 [00:01<00:00, 273.05 cells/s]\n",
      "Added 481 column values with 0 errors.\n"
     ]
    }
   ],
   "source": [
    "from pixeltable.functions.huggingface import clip_text\n",
    "\n",
    "chunks['clip_embed'] = clip_text(chunks.text, model_id='openai/clip-vit-base-patch32')"
   ]
  },
  {
   "cell_type": "code",
   "execution_count": 21,
   "id": "40f446a4",
   "metadata": {
    "execution": {
     "iopub.execute_input": "2024-05-22T22:49:30.598699Z",
     "iopub.status.busy": "2024-05-22T22:49:30.598610Z",
     "iopub.status.idle": "2024-05-22T22:49:30.603078Z",
     "shell.execute_reply": "2024-05-22T22:49:30.602744Z",
     "shell.execute_reply.started": "2024-05-22T22:49:30.598689Z"
    }
   },
   "outputs": [
    {
     "data": {
      "text/html": [
       "<style type=\"text/css\">\n",
       "#T_d3996 th {\n",
       "  text-align: center;\n",
       "}\n",
       "#T_d3996_row0_col0, #T_d3996_row0_col1, #T_d3996_row0_col2, #T_d3996_row1_col0, #T_d3996_row1_col1, #T_d3996_row1_col2, #T_d3996_row2_col0, #T_d3996_row2_col1, #T_d3996_row2_col2, #T_d3996_row3_col0, #T_d3996_row3_col1, #T_d3996_row3_col2, #T_d3996_row4_col0, #T_d3996_row4_col1, #T_d3996_row4_col2, #T_d3996_row5_col0, #T_d3996_row5_col1, #T_d3996_row5_col2, #T_d3996_row6_col0, #T_d3996_row6_col1, #T_d3996_row6_col2, #T_d3996_row7_col0, #T_d3996_row7_col1, #T_d3996_row7_col2 {\n",
       "  white-space: pre-wrap;\n",
       "  text-align: left;\n",
       "}\n",
       "</style>\n",
       "<table id=\"T_d3996\">\n",
       "  <thead>\n",
       "    <tr>\n",
       "      <th id=\"T_d3996_level0_col0\" class=\"col_heading level0 col0\" >Column Name</th>\n",
       "      <th id=\"T_d3996_level0_col1\" class=\"col_heading level0 col1\" >Type</th>\n",
       "      <th id=\"T_d3996_level0_col2\" class=\"col_heading level0 col2\" >Computed With</th>\n",
       "    </tr>\n",
       "  </thead>\n",
       "  <tbody>\n",
       "    <tr>\n",
       "      <td id=\"T_d3996_row0_col0\" class=\"data row0 col0\" >pos</td>\n",
       "      <td id=\"T_d3996_row0_col1\" class=\"data row0 col1\" >int</td>\n",
       "      <td id=\"T_d3996_row0_col2\" class=\"data row0 col2\" ></td>\n",
       "    </tr>\n",
       "    <tr>\n",
       "      <td id=\"T_d3996_row1_col0\" class=\"data row1 col0\" >text</td>\n",
       "      <td id=\"T_d3996_row1_col1\" class=\"data row1 col1\" >string</td>\n",
       "      <td id=\"T_d3996_row1_col2\" class=\"data row1 col2\" ></td>\n",
       "    </tr>\n",
       "    <tr>\n",
       "      <td id=\"T_d3996_row2_col0\" class=\"data row2 col0\" >title</td>\n",
       "      <td id=\"T_d3996_row2_col1\" class=\"data row2 col1\" >string</td>\n",
       "      <td id=\"T_d3996_row2_col2\" class=\"data row2 col2\" ></td>\n",
       "    </tr>\n",
       "    <tr>\n",
       "      <td id=\"T_d3996_row3_col0\" class=\"data row3 col0\" >heading</td>\n",
       "      <td id=\"T_d3996_row3_col1\" class=\"data row3 col1\" >json</td>\n",
       "      <td id=\"T_d3996_row3_col2\" class=\"data row3 col2\" ></td>\n",
       "    </tr>\n",
       "    <tr>\n",
       "      <td id=\"T_d3996_row4_col0\" class=\"data row4 col0\" >sourceline</td>\n",
       "      <td id=\"T_d3996_row4_col1\" class=\"data row4 col1\" >int</td>\n",
       "      <td id=\"T_d3996_row4_col2\" class=\"data row4 col2\" ></td>\n",
       "    </tr>\n",
       "    <tr>\n",
       "      <td id=\"T_d3996_row5_col0\" class=\"data row5 col0\" >minilm_embed</td>\n",
       "      <td id=\"T_d3996_row5_col1\" class=\"data row5 col1\" >array((384,), dtype=FLOAT)</td>\n",
       "      <td id=\"T_d3996_row5_col2\" class=\"data row5 col2\" >sentence_transformer(text, model_id='paraphrase-MiniLM-L6-v2')</td>\n",
       "    </tr>\n",
       "    <tr>\n",
       "      <td id=\"T_d3996_row6_col0\" class=\"data row6 col0\" >clip_embed</td>\n",
       "      <td id=\"T_d3996_row6_col1\" class=\"data row6 col1\" >array((512,), dtype=FLOAT)</td>\n",
       "      <td id=\"T_d3996_row6_col2\" class=\"data row6 col2\" >clip_text(text, model_id='openai/clip-vit-base-patch32')</td>\n",
       "    </tr>\n",
       "    <tr>\n",
       "      <td id=\"T_d3996_row7_col0\" class=\"data row7 col0\" >source_doc</td>\n",
       "      <td id=\"T_d3996_row7_col1\" class=\"data row7 col1\" >document</td>\n",
       "      <td id=\"T_d3996_row7_col2\" class=\"data row7 col2\" ></td>\n",
       "    </tr>\n",
       "  </tbody>\n",
       "</table>\n"
      ],
      "text/plain": [
       "view 'chunks'\n",
       "\n",
       " Column Name                       Type                                                  Computed With\n",
       "         pos                        int                                                               \n",
       "        text                     string                                                               \n",
       "       title                     string                                                               \n",
       "     heading                       json                                                               \n",
       "  sourceline                        int                                                               \n",
       "minilm_embed array((384,), dtype=FLOAT) sentence_transformer(text, model_id='paraphrase-MiniLM-L6-v2')\n",
       "  clip_embed array((512,), dtype=FLOAT)       clip_text(text, model_id='openai/clip-vit-base-patch32')\n",
       "  source_doc                   document                                                               "
      ]
     },
     "execution_count": 21,
     "metadata": {},
     "output_type": "execute_result"
    }
   ],
   "source": [
    "chunks"
   ]
  },
  {
   "cell_type": "code",
   "execution_count": 22,
   "id": "695af1d1",
   "metadata": {
    "execution": {
     "iopub.execute_input": "2024-05-22T22:49:30.606545Z",
     "iopub.status.busy": "2024-05-22T22:49:30.606334Z",
     "iopub.status.idle": "2024-05-22T22:49:30.628283Z",
     "shell.execute_reply": "2024-05-22T22:49:30.627100Z",
     "shell.execute_reply.started": "2024-05-22T22:49:30.606535Z"
    }
   },
   "outputs": [
    {
     "data": {
      "text/html": [
       "<table border=\"1\" class=\"dataframe\">\n",
       "  <thead>\n",
       "    <tr style=\"text-align: right;\">\n",
       "      <th>pos</th>\n",
       "      <th>text</th>\n",
       "      <th>title</th>\n",
       "      <th>heading</th>\n",
       "      <th>sourceline</th>\n",
       "      <th>minilm_embed</th>\n",
       "      <th>clip_embed</th>\n",
       "      <th>source_doc</th>\n",
       "    </tr>\n",
       "  </thead>\n",
       "  <tbody>\n",
       "    <tr>\n",
       "      <td>0</td>\n",
       "      <td><pre style=\"text-align:left; background-color:transparent; margin:0;\">Marc Chagall - Wikipedia Jump to content Search Search</pre></td>\n",
       "      <td><pre style=\"text-align:left; background-color:transparent; margin:0;\">Marc Chagall - Wikipedia</pre></td>\n",
       "      <td><pre style=\"text-align:left; background-color:transparent; margin:0;\">{}</pre></td>\n",
       "      <td>0</td>\n",
       "      <td><pre style=\"text-align:left; background-color:transparent; margin:0;\">[-0.262,-0.119,-0.133, 0.048, 0.12 ,-0.006,...,-0.556, 0.372, 0.468,-0.234,\n",
       " -0.226, 0.164]</pre></td>\n",
       "      <td><pre style=\"text-align:left; background-color:transparent; margin:0;\">[ 0.439,-0.204,-0.37 ,-0.248, 0.253, 0.11 ,..., 0.216,-0.31 , 0.22 , 0.557,\n",
       "  0.173,-0.271]</pre></td>\n",
       "      <td><div class=\"pxt_document\" style=\"width:320px;\">\n",
       "            <a href=\"http://127.0.0.1:64995/Users/orm/.pixeltable/file_cache/e04c4df579814f55a952d0b64618e7dc_0_3c5b8031c7610e17a42ab6df79e614c2ee1a85dbd022497373d574cf65e15c51\">\n",
       "                /Users/orm/.pixeltable/file_cache/e04c4df579814f55a952d0b64618e7dc_0_3c5b8031c7610e17a42ab6df79e614c2ee1a85dbd022497373d574cf65e15c51\n",
       "            </a>\n",
       "        </div></td>\n",
       "    </tr>\n",
       "    <tr>\n",
       "      <td>1</td>\n",
       "      <td><pre style=\"text-align:left; background-color:transparent; margin:0;\">Marc Chagall 81 languages Afrikaans Alemannisch العربية Aragonés Արեւմտահայերէն Asturianu Azərbaycanca বাংলা Башҡортса Б ......  encyclopedia Russian-French artist (1887–1985) &quot;Chagall&quot; redirects here. For other uses, see Chagall (disambiguation) .</pre></td>\n",
       "      <td><pre style=\"text-align:left; background-color:transparent; margin:0;\">Marc Chagall - Wikipedia</pre></td>\n",
       "      <td><pre style=\"text-align:left; background-color:transparent; margin:0;\">{1: Marc Chagall}</pre></td>\n",
       "      <td>820</td>\n",
       "      <td><pre style=\"text-align:left; background-color:transparent; margin:0;\">[-0.136, 0.401,-0.53 ,-0.181,-0.453,-0.125,...,-0.184, 0.122, 0.644,-0.54 ,\n",
       "  0.188, 0.203]</pre></td>\n",
       "      <td><pre style=\"text-align:left; background-color:transparent; margin:0;\">[ 0.106, 0.006,-0.152, 0.043, 0.283,-0.017,..., 0.237,-0.424, 0.203, 0.016,\n",
       "  0.117,-0.32 ]</pre></td>\n",
       "      <td><div class=\"pxt_document\" style=\"width:320px;\">\n",
       "            <a href=\"http://127.0.0.1:64995/Users/orm/.pixeltable/file_cache/e04c4df579814f55a952d0b64618e7dc_0_3c5b8031c7610e17a42ab6df79e614c2ee1a85dbd022497373d574cf65e15c51\">\n",
       "                /Users/orm/.pixeltable/file_cache/e04c4df579814f55a952d0b64618e7dc_0_3c5b8031c7610e17a42ab6df79e614c2ee1a85dbd022497373d574cf65e15c51\n",
       "            </a>\n",
       "        </div></td>\n",
       "    </tr>\n",
       "    <tr>\n",
       "      <td>2</td>\n",
       "      <td><pre style=\"text-align:left; background-color:transparent; margin:0;\">Marc Chagall Chagall, c. 1920 Born Moishe Shagal ( 1887-07-06 ) 6 July 1887 (N.S.) Liozna , Vitebsk Governorate , Russia ...... f Paris Spouses Bella Rosenfeld ​ ​ ( m. 1915; died 1944) ​ Valentina (Vava) Brodsky ​ ​ ( m. 1952) ​ [3] Children 2 [4]</pre></td>\n",
       "      <td><pre style=\"text-align:left; background-color:transparent; margin:0;\">Marc Chagall - Wikipedia</pre></td>\n",
       "      <td><pre style=\"text-align:left; background-color:transparent; margin:0;\">{1: Marc Chagall}</pre></td>\n",
       "      <td>1015</td>\n",
       "      <td><pre style=\"text-align:left; background-color:transparent; margin:0;\">[ 6.518e-05, 3.302e-01,-3.144e-01, 1.680e-01,-1.229e-01, 3.993e-01,...,\n",
       " -1.386e-01,-1.360e-01, 9.149e-02,-4.365e-01,-1.723e-01,-4.351e-02]</pre></td>\n",
       "      <td><pre style=\"text-align:left; background-color:transparent; margin:0;\">[ 0.301,-0.216,-0.186,-0.098, 0.273, 0.154,..., 0.051,-0.35 , 0.324, 0.152,\n",
       "  0.156,-0.235]</pre></td>\n",
       "      <td><div class=\"pxt_document\" style=\"width:320px;\">\n",
       "            <a href=\"http://127.0.0.1:64995/Users/orm/.pixeltable/file_cache/e04c4df579814f55a952d0b64618e7dc_0_3c5b8031c7610e17a42ab6df79e614c2ee1a85dbd022497373d574cf65e15c51\">\n",
       "                /Users/orm/.pixeltable/file_cache/e04c4df579814f55a952d0b64618e7dc_0_3c5b8031c7610e17a42ab6df79e614c2ee1a85dbd022497373d574cf65e15c51\n",
       "            </a>\n",
       "        </div></td>\n",
       "    </tr>\n",
       "    <tr>\n",
       "      <td>3</td>\n",
       "      <td><pre style=\"text-align:left; background-color:transparent; margin:0;\">Marc Chagall [a] (born Moishe Shagal ; 6 July [ O.S. 24 June] 1887 – 28 March 1985) was a Russian-French artist. [b] An  ......  including painting, drawings, book illustrations, stained glass , stage sets, ceramics, tapestries and fine art prints.</pre></td>\n",
       "      <td><pre style=\"text-align:left; background-color:transparent; margin:0;\">Marc Chagall - Wikipedia</pre></td>\n",
       "      <td><pre style=\"text-align:left; background-color:transparent; margin:0;\">{1: Marc Chagall}</pre></td>\n",
       "      <td>1029</td>\n",
       "      <td><pre style=\"text-align:left; background-color:transparent; margin:0;\">[ 0.061, 0.155,-0.189, 0.168,-0.089, 0.171,...,-0.136,-0.32 , 0.249,-0.007,\n",
       " -0.094, 0.025]</pre></td>\n",
       "      <td><pre style=\"text-align:left; background-color:transparent; margin:0;\">[ 0.313,-0.156,-0.14 ,-0.062, 0.424, 0.07 ,..., 0.153,-0.361, 0.414,-0.295,\n",
       "  0.159,-0.21 ]</pre></td>\n",
       "      <td><div class=\"pxt_document\" style=\"width:320px;\">\n",
       "            <a href=\"http://127.0.0.1:64995/Users/orm/.pixeltable/file_cache/e04c4df579814f55a952d0b64618e7dc_0_3c5b8031c7610e17a42ab6df79e614c2ee1a85dbd022497373d574cf65e15c51\">\n",
       "                /Users/orm/.pixeltable/file_cache/e04c4df579814f55a952d0b64618e7dc_0_3c5b8031c7610e17a42ab6df79e614c2ee1a85dbd022497373d574cf65e15c51\n",
       "            </a>\n",
       "        </div></td>\n",
       "    </tr>\n",
       "    <tr>\n",
       "      <td>4</td>\n",
       "      <td><pre style=\"text-align:left; background-color:transparent; margin:0;\">Chagall was born in 1887, into a Jewish family near Vitebsk , today in Belarus , but at that time in the Pale of Settlem ...... ccupied France to the United States, where he lived in New York City for seven years before returning to France in 1948.</pre></td>\n",
       "      <td><pre style=\"text-align:left; background-color:transparent; margin:0;\">Marc Chagall - Wikipedia</pre></td>\n",
       "      <td><pre style=\"text-align:left; background-color:transparent; margin:0;\">{1: Marc Chagall}</pre></td>\n",
       "      <td>1030</td>\n",
       "      <td><pre style=\"text-align:left; background-color:transparent; margin:0;\">[ 0.013, 0.248,-0.692, 0.143,-0.379, 0.254,...,-0.232,-0.157,-0.018,-0.225,\n",
       " -0.208,-0.095]</pre></td>\n",
       "      <td><pre style=\"text-align:left; background-color:transparent; margin:0;\">[ 0.326, 0.067,-0.061,-0.046, 0.242, 0.227,..., 0.153,-0.295, 0.282, 0.013,\n",
       "  0.276,-0.331]</pre></td>\n",
       "      <td><div class=\"pxt_document\" style=\"width:320px;\">\n",
       "            <a href=\"http://127.0.0.1:64995/Users/orm/.pixeltable/file_cache/e04c4df579814f55a952d0b64618e7dc_0_3c5b8031c7610e17a42ab6df79e614c2ee1a85dbd022497373d574cf65e15c51\">\n",
       "                /Users/orm/.pixeltable/file_cache/e04c4df579814f55a952d0b64618e7dc_0_3c5b8031c7610e17a42ab6df79e614c2ee1a85dbd022497373d574cf65e15c51\n",
       "            </a>\n",
       "        </div></td>\n",
       "    </tr>\n",
       "    <tr>\n",
       "      <td>5</td>\n",
       "      <td><pre style=\"text-align:left; background-color:transparent; margin:0;\">Art critic Robert Hughes referred to Chagall as &quot;the quintessential Jewish artist of the twentieth century&quot;. According t ...... Pablo Picasso remarked in the 1950s, &quot;Chagall will be the only painter left who understands what colour really is&quot;. [17]</pre></td>\n",
       "      <td><pre style=\"text-align:left; background-color:transparent; margin:0;\">Marc Chagall - Wikipedia</pre></td>\n",
       "      <td><pre style=\"text-align:left; background-color:transparent; margin:0;\">{1: Marc Chagall}</pre></td>\n",
       "      <td>1031</td>\n",
       "      <td><pre style=\"text-align:left; background-color:transparent; margin:0;\">[-0.172, 0.348,-0.307, 0.034,-0.071, 0.111,...,-0.31 ,-0.011, 0.302,-0.273,\n",
       " -0.163, 0.152]</pre></td>\n",
       "      <td><pre style=\"text-align:left; background-color:transparent; margin:0;\">[ 0.374, 0.032,-0.311,-0.093, 0.242, 0.264,..., 0.178,-0.119, 0.247, 0.206,\n",
       "  0.35 ,-0.516]</pre></td>\n",
       "      <td><div class=\"pxt_document\" style=\"width:320px;\">\n",
       "            <a href=\"http://127.0.0.1:64995/Users/orm/.pixeltable/file_cache/e04c4df579814f55a952d0b64618e7dc_0_3c5b8031c7610e17a42ab6df79e614c2ee1a85dbd022497373d574cf65e15c51\">\n",
       "                /Users/orm/.pixeltable/file_cache/e04c4df579814f55a952d0b64618e7dc_0_3c5b8031c7610e17a42ab6df79e614c2ee1a85dbd022497373d574cf65e15c51\n",
       "            </a>\n",
       "        </div></td>\n",
       "    </tr>\n",
       "    <tr>\n",
       "      <td>6</td>\n",
       "      <td><pre style=\"text-align:left; background-color:transparent; margin:0;\">Early life and education [ edit ]</pre></td>\n",
       "      <td><pre style=\"text-align:left; background-color:transparent; margin:0;\">Marc Chagall - Wikipedia</pre></td>\n",
       "      <td><pre style=\"text-align:left; background-color:transparent; margin:0;\">{1: Marc Chagall, 2: Early life and education[edit]}</pre></td>\n",
       "      <td>1034</td>\n",
       "      <td><pre style=\"text-align:left; background-color:transparent; margin:0;\">[-0.213, 0.418, 0.094, 0.135,-0.069, 0.265,...,-0.548, 0.164, 0.075, 0.205,\n",
       "  0.309, 0.277]</pre></td>\n",
       "      <td><pre style=\"text-align:left; background-color:transparent; margin:0;\">[-0.111,-0.318, 0.043, 0.033, 0.042,-0.531,...,-0.213, 0.212,-0.019,-0.233,\n",
       "  0.465,-0.051]</pre></td>\n",
       "      <td><div class=\"pxt_document\" style=\"width:320px;\">\n",
       "            <a href=\"http://127.0.0.1:64995/Users/orm/.pixeltable/file_cache/e04c4df579814f55a952d0b64618e7dc_0_3c5b8031c7610e17a42ab6df79e614c2ee1a85dbd022497373d574cf65e15c51\">\n",
       "                /Users/orm/.pixeltable/file_cache/e04c4df579814f55a952d0b64618e7dc_0_3c5b8031c7610e17a42ab6df79e614c2ee1a85dbd022497373d574cf65e15c51\n",
       "            </a>\n",
       "        </div></td>\n",
       "    </tr>\n",
       "    <tr>\n",
       "      <td>7</td>\n",
       "      <td><pre style=\"text-align:left; background-color:transparent; margin:0;\">Early life [ edit ] Marc Chagall&#x27;s childhood home in Vitebsk , Belarus. Currently site of the Marc Chagall Museum . Marc Chagall, 1912, The Spoonful of Milk (La Cuillerée de lait) , gouache on paper</pre></td>\n",
       "      <td><pre style=\"text-align:left; background-color:transparent; margin:0;\">Marc Chagall - Wikipedia</pre></td>\n",
       "      <td><pre style=\"text-align:left; background-color:transparent; margin:0;\">{1: Marc Chagall, 2: Early life and education[edit], 3: Early life[edit]}</pre></td>\n",
       "      <td>1035</td>\n",
       "      <td><pre style=\"text-align:left; background-color:transparent; margin:0;\">[-0.04 , 0.143,-0.357, 0.412,-0.331, 0.201,...,-0.006,-0.057, 0.255, 0.181,\n",
       "  0.018,-0.021]</pre></td>\n",
       "      <td><pre style=\"text-align:left; background-color:transparent; margin:0;\">[-0.211, 0.181,-0.237, 0.158, 0.337,-0.144,..., 0.248, 0.048, 0.399,-0.22 ,\n",
       " -0.058,-0.508]</pre></td>\n",
       "      <td><div class=\"pxt_document\" style=\"width:320px;\">\n",
       "            <a href=\"http://127.0.0.1:64995/Users/orm/.pixeltable/file_cache/e04c4df579814f55a952d0b64618e7dc_0_3c5b8031c7610e17a42ab6df79e614c2ee1a85dbd022497373d574cf65e15c51\">\n",
       "                /Users/orm/.pixeltable/file_cache/e04c4df579814f55a952d0b64618e7dc_0_3c5b8031c7610e17a42ab6df79e614c2ee1a85dbd022497373d574cf65e15c51\n",
       "            </a>\n",
       "        </div></td>\n",
       "    </tr>\n",
       "    <tr>\n",
       "      <td>8</td>\n",
       "      <td><pre style=\"text-align:left; background-color:transparent; margin:0;\">Marc Chagall was born Moishe Shagal in 1887, into a Jewish family in Liozna , [1] near the city of Vitebsk , Belarus, th ...... ecause the city was built mostly of wood, little of it survived years of occupation and destruction during World War II.</pre></td>\n",
       "      <td><pre style=\"text-align:left; background-color:transparent; margin:0;\">Marc Chagall - Wikipedia</pre></td>\n",
       "      <td><pre style=\"text-align:left; background-color:transparent; margin:0;\">{1: Marc Chagall, 2: Early life and education[edit], 3: Early life[edit]}</pre></td>\n",
       "      <td>1038</td>\n",
       "      <td><pre style=\"text-align:left; background-color:transparent; margin:0;\">[ 0.123, 0.198,-0.496, 0.154,-0.368, 0.078,...,-0.057,-0.141,-0.063,-0.096,\n",
       " -0.136,-0.232]</pre></td>\n",
       "      <td><pre style=\"text-align:left; background-color:transparent; margin:0;\">[ 0.272,-0.137,-0.257,-0.087, 0.43 , 0.179,..., 0.17 ,-0.337, 0.315,-0.335,\n",
       "  0.208,-0.215]</pre></td>\n",
       "      <td><div class=\"pxt_document\" style=\"width:320px;\">\n",
       "            <a href=\"http://127.0.0.1:64995/Users/orm/.pixeltable/file_cache/e04c4df579814f55a952d0b64618e7dc_0_3c5b8031c7610e17a42ab6df79e614c2ee1a85dbd022497373d574cf65e15c51\">\n",
       "                /Users/orm/.pixeltable/file_cache/e04c4df579814f55a952d0b64618e7dc_0_3c5b8031c7610e17a42ab6df79e614c2ee1a85dbd022497373d574cf65e15c51\n",
       "            </a>\n",
       "        </div></td>\n",
       "    </tr>\n",
       "    <tr>\n",
       "      <td>9</td>\n",
       "      <td><pre style=\"text-align:left; background-color:transparent; margin:0;\">Chagall was the eldest of nine children. The family name, Shagal, is a variant of the name Segal , which in a Jewish com ...... les each month (the average wages across the Russian Empire was 13 roubles a month). Chagall wrote of those early years:</pre></td>\n",
       "      <td><pre style=\"text-align:left; background-color:transparent; margin:0;\">Marc Chagall - Wikipedia</pre></td>\n",
       "      <td><pre style=\"text-align:left; background-color:transparent; margin:0;\">{1: Marc Chagall, 2: Early life and education[edit], 3: Early life[edit]}</pre></td>\n",
       "      <td>1039</td>\n",
       "      <td><pre style=\"text-align:left; background-color:transparent; margin:0;\">[-0.19 , 0.266,-0.4  , 0.129,-0.493, 0.063,...,-0.194,-0.2  , 0.322, 0.024,\n",
       " -0.068, 0.031]</pre></td>\n",
       "      <td><pre style=\"text-align:left; background-color:transparent; margin:0;\">[ 0.182,-0.073,-0.195,-0.15 , 0.277, 0.246,..., 0.119,-0.211, 0.115,-0.045,\n",
       "  0.497,-0.432]</pre></td>\n",
       "      <td><div class=\"pxt_document\" style=\"width:320px;\">\n",
       "            <a href=\"http://127.0.0.1:64995/Users/orm/.pixeltable/file_cache/e04c4df579814f55a952d0b64618e7dc_0_3c5b8031c7610e17a42ab6df79e614c2ee1a85dbd022497373d574cf65e15c51\">\n",
       "                /Users/orm/.pixeltable/file_cache/e04c4df579814f55a952d0b64618e7dc_0_3c5b8031c7610e17a42ab6df79e614c2ee1a85dbd022497373d574cf65e15c51\n",
       "            </a>\n",
       "        </div></td>\n",
       "    </tr>\n",
       "  </tbody>\n",
       "</table>"
      ],
      "text/plain": [
       "   pos                                               text  \\\n",
       "0    0  Marc Chagall - Wikipedia Jump to content Searc...   \n",
       "1    1  Marc Chagall 81 languages Afrikaans Alemannisc...   \n",
       "2    2  Marc Chagall Chagall, c. 1920 Born Moishe Shag...   \n",
       "3    3  Marc Chagall [a] (born Moishe Shagal ; 6 July ...   \n",
       "4    4  Chagall was born in 1887, into a Jewish family...   \n",
       "5    5  Art critic Robert Hughes referred to Chagall a...   \n",
       "6    6                  Early life and education [ edit ]   \n",
       "7    7  Early life [ edit ] Marc Chagall's childhood h...   \n",
       "8    8  Marc Chagall was born Moishe Shagal in 1887, i...   \n",
       "9    9  Chagall was the eldest of nine children. The f...   \n",
       "\n",
       "                      title  \\\n",
       "0  Marc Chagall - Wikipedia   \n",
       "1  Marc Chagall - Wikipedia   \n",
       "2  Marc Chagall - Wikipedia   \n",
       "3  Marc Chagall - Wikipedia   \n",
       "4  Marc Chagall - Wikipedia   \n",
       "5  Marc Chagall - Wikipedia   \n",
       "6  Marc Chagall - Wikipedia   \n",
       "7  Marc Chagall - Wikipedia   \n",
       "8  Marc Chagall - Wikipedia   \n",
       "9  Marc Chagall - Wikipedia   \n",
       "\n",
       "                                             heading  sourceline  \\\n",
       "0                                                 {}           0   \n",
       "1                              {'1': 'Marc Chagall'}         820   \n",
       "2                              {'1': 'Marc Chagall'}        1015   \n",
       "3                              {'1': 'Marc Chagall'}        1029   \n",
       "4                              {'1': 'Marc Chagall'}        1030   \n",
       "5                              {'1': 'Marc Chagall'}        1031   \n",
       "6  {'1': 'Marc Chagall', '2': 'Early life and edu...        1034   \n",
       "7  {'1': 'Marc Chagall', '2': 'Early life and edu...        1035   \n",
       "8  {'1': 'Marc Chagall', '2': 'Early life and edu...        1038   \n",
       "9  {'1': 'Marc Chagall', '2': 'Early life and edu...        1039   \n",
       "\n",
       "                                        minilm_embed  \\\n",
       "0  [-0.26239732, -0.11875591, -0.1327097, 0.04825...   \n",
       "1  [-0.13631254, 0.4006328, -0.53002965, -0.18143...   \n",
       "2  [6.517535e-05, 0.33019805, -0.31437707, 0.1679...   \n",
       "3  [0.060708035, 0.15527864, -0.18933795, 0.16767...   \n",
       "4  [0.012889174, 0.24784824, -0.6924429, 0.142611...   \n",
       "5  [-0.17184903, 0.3480283, -0.30670434, 0.033759...   \n",
       "6  [-0.21258698, 0.41762647, 0.094004124, 0.13499...   \n",
       "7  [-0.0404035, 0.14281149, -0.35680765, 0.411817...   \n",
       "8  [0.12289612, 0.1977109, -0.49609962, 0.1543681...   \n",
       "9  [-0.19016077, 0.26621002, -0.40008062, 0.12919...   \n",
       "\n",
       "                                          clip_embed  \\\n",
       "0  [0.43900874, -0.20442133, -0.37038484, -0.2484...   \n",
       "1  [0.10576786, 0.006254318, -0.15221627, 0.04325...   \n",
       "2  [0.30112246, -0.2156775, -0.18620926, -0.09771...   \n",
       "3  [0.31319115, -0.15600297, -0.1403571, -0.06173...   \n",
       "4  [0.32602388, 0.06719934, -0.061004907, -0.0456...   \n",
       "5  [0.37371916, 0.03151862, -0.31062463, -0.09309...   \n",
       "6  [-0.111430824, -0.31773454, 0.043278523, 0.032...   \n",
       "7  [-0.21067286, 0.18139021, -0.23682395, 0.15844...   \n",
       "8  [0.27152565, -0.13698365, -0.2572203, -0.08675...   \n",
       "9  [0.18217626, -0.07319703, -0.19468296, -0.1496...   \n",
       "\n",
       "                                          source_doc  \n",
       "0  /Users/orm/.pixeltable/file_cache/e04c4df57981...  \n",
       "1  /Users/orm/.pixeltable/file_cache/e04c4df57981...  \n",
       "2  /Users/orm/.pixeltable/file_cache/e04c4df57981...  \n",
       "3  /Users/orm/.pixeltable/file_cache/e04c4df57981...  \n",
       "4  /Users/orm/.pixeltable/file_cache/e04c4df57981...  \n",
       "5  /Users/orm/.pixeltable/file_cache/e04c4df57981...  \n",
       "6  /Users/orm/.pixeltable/file_cache/e04c4df57981...  \n",
       "7  /Users/orm/.pixeltable/file_cache/e04c4df57981...  \n",
       "8  /Users/orm/.pixeltable/file_cache/e04c4df57981...  \n",
       "9  /Users/orm/.pixeltable/file_cache/e04c4df57981...  "
      ]
     },
     "execution_count": 22,
     "metadata": {},
     "output_type": "execute_result"
    }
   ],
   "source": [
    "chunks.head()"
   ]
  }
 ],
 "metadata": {
  "kernelspec": {
   "display_name": "pixeltable_39",
   "language": "python",
   "name": "pixeltable_39"
  },
  "language_info": {
   "codemirror_mode": {
    "name": "ipython",
    "version": 3
   },
   "file_extension": ".py",
   "mimetype": "text/x-python",
   "name": "python",
   "nbconvert_exporter": "python",
   "pygments_lexer": "ipython3",
   "version": "3.9.19"
  }
 },
 "nbformat": 4,
 "nbformat_minor": 5
}

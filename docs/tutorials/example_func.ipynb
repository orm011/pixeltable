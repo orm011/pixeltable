{
 "cells": [
  {
   "cell_type": "code",
   "execution_count": 165,
   "metadata": {},
   "outputs": [],
   "source": [
    "import PIL\n",
    "from PIL import Image\n",
    "import requests\n",
    "\n",
    "from transformers import CLIPProcessor, CLIPModel\n",
    "import torch\n",
    "\n",
    "model = CLIPModel.from_pretrained(\"openai/clip-vit-base-patch32\")\n",
    "processor = CLIPProcessor.from_pretrained(\"openai/clip-vit-base-patch32\")\n",
    "\n",
    "url = \"http://images.cocodataset.org/val2017/000000039769.jpg\"\n",
    "image = Image.open(requests.get(url, stream=True).raw)\n",
    "\n",
    "\n",
    "class Expr:\n",
    "    pass\n",
    "\n",
    "\n",
    "class OpaqueFunc:\n",
    "    def __init__(self, name, source):\n",
    "        self.name = name\n",
    "        self.source = source\n",
    "\n",
    "    def __call__(self, *args):\n",
    "        return self.func(*args)\n",
    "\n",
    "    def __repr__(self):\n",
    "        return f\"OpaqueFunc({self.name=})\"\n",
    "\n",
    "from typing import List\n",
    "\n",
    "class Reference:\n",
    "    def __init__(self, *names):\n",
    "        self.names = list(names)\n",
    "\n",
    "    def __repr__(self):\n",
    "        return f\"Reference({self.names=})\"\n",
    "\n",
    "class UDFCall(Expr):\n",
    "    def __init__(self, name : Reference, args : List[Expr]):\n",
    "        self.name = name\n",
    "        self.args = args\n",
    "\n",
    "    def __str__(self):\n",
    "        return f\"{self.name}({', '.join(map(str, self.args))})\"\n",
    "\n",
    "    def __repr__(self):\n",
    "        return f\"UDFCall({self.name=},\\n{self.args=})\"\n",
    "\n",
    "class ExprTemplate:\n",
    "    def __init__(self, params, expr : Expr):\n",
    "        self.params = params\n",
    "        self.expr = expr\n",
    "\n",
    "    def __to_expr__(self):\n",
    "        return self.expr\n",
    "\n",
    "    def __repr__(self):\n",
    "        return f\"ExprTemplate({self.params=}, {self.expr=})\"\n",
    "\n",
    "class Constant(Expr):\n",
    "    def __init__(self, value):\n",
    "        self.value = value\n",
    "\n",
    "    def __str__(self):\n",
    "        return str(self.value)\n",
    "\n",
    "    def __repr__(self):\n",
    "        return f\"Constant({self.value})\"\n",
    "\n",
    "\n",
    "class Parameter(Expr):\n",
    "    def __init__(self, name):\n",
    "        \"\"\" placeholder for expression used passed on to template \"\"\"\n",
    "        self.name = name\n",
    "\n",
    "    def __str__(self):\n",
    "        return self.name\n",
    "\n",
    "    def __repr__(self):\n",
    "        return f\"Parameter({self.name})\"\n",
    "\n",
    "class DictLookup(Expr):\n",
    "    def __init__(self, obj, attr):\n",
    "        self.obj = obj\n",
    "        self.attr = attr\n",
    "\n",
    "    def __str__(self):\n",
    "        return f\"{self.obj}.{self.attr}\"\n",
    "\n",
    "    def __repr__(self):\n",
    "        return f\"DictLookup({self.obj=}, {self.attr=})\"\n",
    "\n",
    "\n",
    "def simple_fun(image : PIL.Image.Image) -> torch.Tensor:\n",
    "    image_tensor = processor.image_processor(image=image, return_tensors='pt')['pixel_values']\n",
    "    return model.get_image_features(image_tensor)\n",
    "\n",
    "def complex_fun(image : PIL.Image.Image) -> torch.Tensor:\n",
    "    image_tensor = processor.image_processor(image=image, return_tensors='pt')['pixel_values']\n",
    "    while True:\n",
    "        image_tensor = model.get_image_features(image_tensor)"
   ]
  },
  {
   "cell_type": "code",
   "execution_count": 124,
   "metadata": {},
   "outputs": [
    {
     "data": {
      "text/plain": [
       "ExprTemplate(self.params=[Parameter(image)], self.expr=UDFCall(self.name=Reference(self.names=['model', 'get_image_features']),\n",
       "self.args=[DictLookup(self.obj=UDFCall(self.name=Reference(self.names=['processor', 'image_processor']),\n",
       "self.args=[Parameter(image)]), self.attr='pixel_values')]))"
      ]
     },
     "execution_count": 124,
     "metadata": {},
     "output_type": "execute_result"
    }
   ],
   "source": [
    "## manual version of making a template for simple_fun\n",
    "params = [Parameter('image')]\n",
    "udf1 = UDFCall(Reference('processor', 'image_processor'), [params[0]])\n",
    "tmp1 = DictLookup(udf1, 'pixel_values')\n",
    "udf2 = UDFCall(Reference('model', 'get_image_features'), [tmp1])\n",
    "ExprTemplate(params=params, expr=udf2)"
   ]
  },
  {
   "cell_type": "code",
   "execution_count": 164,
   "metadata": {},
   "outputs": [],
   "source": []
  },
  {
   "cell_type": "code",
   "execution_count": 166,
   "metadata": {},
   "outputs": [],
   "source": [
    "def udf(fun):\n",
    "    from collections import deque\n",
    "    import inspect\n",
    "    import dis # disassembler\n",
    "    \"\"\"\n",
    "        Decorator for UDF.\n",
    "\n",
    "        If UDF is simple, eg.\n",
    "            image or string preproc followed by model call.\n",
    "              convert it to an Expression template\n",
    "\n",
    "        Otherwise, eg  bc of complex control flow, bail out by simply registering it as a function.\n",
    "    \"\"\"\n",
    "\n",
    "    supported = True\n",
    "\n",
    "    sig = inspect.signature(fun)\n",
    "    bcode = dis.Bytecode(fun.__code__)\n",
    "    stack = deque()\n",
    "    store = { k: Parameter(k) for k in sig.parameters.keys() }\n",
    "\n",
    "    for instr in bcode:\n",
    "        print(instr.opname, instr.argval)\n",
    "        if instr.opname == \"LOAD_GLOBAL\":\n",
    "            stack.append(Reference(instr.argval))\n",
    "        elif instr.opname == \"LOAD_ATTR\" : # getattr\n",
    "            stack[-1].names.append(instr.argval)\n",
    "        elif instr.opname == \"LOAD_FAST\": # load local var\n",
    "            stack.append(store[instr.argval])\n",
    "        elif instr.opname == \"STORE_FAST\": # store local var\n",
    "            store[instr.argval] = stack.pop()\n",
    "        elif instr.opname == \"LOAD_CONST\": # constant val\n",
    "            stack.append(instr.argval)\n",
    "        elif instr.opname == \"CALL_FUNCTION_KW\": # call function\n",
    "            kwargs = []\n",
    "            key_words = deque(stack.pop())\n",
    "            while True:\n",
    "                top = stack.pop()\n",
    "                if isinstance(top, Reference):\n",
    "                    kwargs.reverse()\n",
    "                    stack.append(UDFCall(top, kwargs))\n",
    "                    break\n",
    "                else:\n",
    "                    keyword = key_words.pop()\n",
    "                    kwargs.append((keyword,top))\n",
    "        elif instr.opname == \"BINARY_SUBSCR\": # dictionary lookup\n",
    "            attr = stack.pop()\n",
    "            dc = stack.pop()\n",
    "            stack.append(DictLookup(dc, attr))\n",
    "        elif instr.opname == \"LOAD_METHOD\":\n",
    "            ref = stack.pop()\n",
    "            assert isinstance(ref, Reference)\n",
    "            ref.names.append(instr.argval)\n",
    "            stack.append(ref)\n",
    "        elif instr.opname == \"CALL_METHOD\":\n",
    "            args = []\n",
    "            while True:\n",
    "                top = stack.pop()\n",
    "                if isinstance(top, Reference):\n",
    "                    stack.append(UDFCall(top, args))\n",
    "                    break\n",
    "                else:\n",
    "                    args.append(top)\n",
    "        elif instr.opname == \"RETURN_VALUE\":\n",
    "            break\n",
    "        else:\n",
    "            # assert False, f'{instr.opname=}, {instr.argval=}'\n",
    "            supported = False\n",
    "            break  # bail out, some operation is not supported.\n",
    "\n",
    "    if supported:\n",
    "        return ExprTemplate(params=params, expr=stack.pop())\n",
    "    else:\n",
    "        return OpaqueFunc(fun.__code__.co_name, inspect.getsource(fun))"
   ]
  },
  {
   "cell_type": "code",
   "execution_count": 167,
   "metadata": {},
   "outputs": [
    {
     "name": "stdout",
     "output_type": "stream",
     "text": [
      "LOAD_GLOBAL processor\n",
      "LOAD_ATTR image_processor\n",
      "LOAD_FAST image\n",
      "LOAD_CONST pt\n",
      "LOAD_CONST ('image', 'return_tensors')\n",
      "CALL_FUNCTION_KW 2\n",
      "LOAD_CONST pixel_values\n",
      "BINARY_SUBSCR None\n",
      "STORE_FAST image_tensor\n",
      "LOAD_GLOBAL model\n",
      "LOAD_METHOD get_image_features\n",
      "LOAD_FAST image_tensor\n",
      "CALL_METHOD 1\n",
      "RETURN_VALUE None\n"
     ]
    }
   ],
   "source": [
    "@udf\n",
    "def simple_fun2(image : PIL.Image.Image) -> torch.Tensor:\n",
    "    image_tensor = processor.image_processor(image=image, return_tensors='pt')['pixel_values']\n",
    "    return model.get_image_features(image_tensor)"
   ]
  },
  {
   "cell_type": "code",
   "execution_count": 169,
   "metadata": {},
   "outputs": [
    {
     "data": {
      "text/plain": [
       "ExprTemplate(self.params=[Parameter(image)], self.expr=UDFCall(self.name=Reference(self.names=['model', 'get_image_features']),\n",
       "self.args=[DictLookup(self.obj=UDFCall(self.name=Reference(self.names=['processor', 'image_processor']),\n",
       "self.args=[('image', Parameter(image)), ('return_tensors', 'pt')]), self.attr='pixel_values')]))"
      ]
     },
     "execution_count": 169,
     "metadata": {},
     "output_type": "execute_result"
    }
   ],
   "source": [
    "simple_fun2"
   ]
  },
  {
   "cell_type": "code",
   "execution_count": 162,
   "metadata": {},
   "outputs": [
    {
     "name": "stdout",
     "output_type": "stream",
     "text": [
      "LOAD_GLOBAL processor\n",
      "LOAD_ATTR image_processor\n",
      "LOAD_FAST image\n",
      "LOAD_CONST pt\n",
      "LOAD_CONST ('image', 'return_tensors')\n",
      "CALL_FUNCTION_KW 2\n",
      "LOAD_CONST pixel_values\n",
      "BINARY_SUBSCR None\n",
      "STORE_FAST image_tensor\n",
      "LOAD_GLOBAL model\n",
      "LOAD_METHOD get_image_features\n",
      "LOAD_FAST image_tensor\n",
      "CALL_METHOD 1\n",
      "STORE_FAST image_tensor\n",
      "JUMP_ABSOLUTE 18\n"
     ]
    },
    {
     "data": {
      "text/plain": [
       "OpaqueFunc(self.name='complex_fun')"
      ]
     },
     "execution_count": 162,
     "metadata": {},
     "output_type": "execute_result"
    }
   ],
   "source": [
    "udf(complex_fun)"
   ]
  }
 ],
 "metadata": {
  "kernelspec": {
   "display_name": "pixeltable",
   "language": "python",
   "name": "python3"
  },
  "language_info": {
   "codemirror_mode": {
    "name": "ipython",
    "version": 3
   },
   "file_extension": ".py",
   "mimetype": "text/x-python",
   "name": "python",
   "nbconvert_exporter": "python",
   "pygments_lexer": "ipython3",
   "version": "3.9.19"
  }
 },
 "nbformat": 4,
 "nbformat_minor": 2
}
